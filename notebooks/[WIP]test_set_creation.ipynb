{
 "cells": [
  {
   "cell_type": "code",
   "execution_count": 47,
   "metadata": {},
   "outputs": [],
   "source": [
    "from google.cloud import storage\n",
    "from tqdm import tqdm\n",
    "import pandas as pd\n",
    "from geopy import distance \n",
    "import plotly.express as px\n",
    "import os\n",
    "import pyproj\n",
    "from pyproj import CRS\n",
    "from shapely.geometry import shape\n",
    "from shapely.geometry.polygon import Polygon\n",
    "import shapely.ops as ops\n",
    "from shapely.ops import transform\n",
    "from functools import partial\n",
    "import numpy as np\n",
    "pd.set_option('display.max_rows', 1000)\n",
    "pd.set_option('display.max_colwidth', None)\n",
    "\n",
    "# to ignore warning created by pyproj.Proj(init=\"EPSG:4326\")\n",
    "import warnings\n",
    "warnings.simplefilter(action='ignore', category=FutureWarning)"
   ]
  },
  {
   "cell_type": "markdown",
   "metadata": {},
   "source": [
    "# Test Set Generation\n",
    "\n",
    "**Author:** Madhava Paliyam (madhavapaliyam@gmail.com)\n",
    "\n",
    "**Description:** Selects images for test set randomly\n",
    "\n",
    "\n",
    "\n",
    "**Inputs**: Number of points in the test set, minimum seperation distance for points, admin zone to use for each country\n",
    "\n",
    "**Outputs**: Test set uploaded onto dvc \n",
    "\n",
    "#### Method for Selecting Images for Test Set: \n",
    "- Filter by points in each admin2 zone \n",
    "- Draw bounding box around the points \n",
    "- Calculate area of bounding box \n",
    "- Sample points in each admin2 zone according to the proportion area that each bounding box covers in comparision to the entire dataset: \n",
    "\n",
    "\n",
    "$$npts_{zone} = npts_{total} \\times \\frac{area_{zone}}{area_{total}}$$\n",
    "\n",
    "$area_{total}$ is the sum of the areas of the bounding boxes: $$area_{total} = \\sum^{admin2\\space zones}{area_{zone}}$$\n",
    "\n",
    "$area_{zone}$ is the area of the bounding box in the admin2 zone calculated using the minimum and maximum latitudes and longitudes. \n",
    "\n",
    "$npts_{total}$ is the total number of points needed in the test set sample. \n",
    "\n",
    "Lastly, any points are too close together are resampled. "
   ]
  },
  {
   "cell_type": "markdown",
   "metadata": {},
   "source": [
    "##### Get database info csv from google cloud "
   ]
  },
  {
   "cell_type": "code",
   "execution_count": 109,
   "metadata": {},
   "outputs": [
    {
     "name": "stdout",
     "output_type": "stream",
     "text": [
      "\u001b[0m"
     ]
    }
   ],
   "source": [
    "!dvc pull -q -f \n",
    "\n",
    "\n",
    "##### SET SIZE FOR DATASET #####\n",
    "DATASET_SIZE = 1000 \n",
    "\n",
    "##### SET MINIMUM SEPERATION #####\n",
    "MIN_SEPERATION = 200 # m \n",
    "\n",
    "\n",
    "##### dictionary to choose admin zone based on country #####\n",
    "admin_zone_to_use = {'KE': 'admin1', 'UG': 'admin1', 'US': 'admin1', 'TZ': 'admin2', 'SJ': 'admin1'}\n",
    "\"\"\"\n",
    "000\n",
    "001\n",
    "010\n",
    "100\n",
    "011\n",
    "110\n",
    "101\n",
    "111\n",
    "\"\"\"\n",
    "\n",
    "\n",
    "##### If there are any zones to not include in the test set, set them here #####\n",
    "to_drop = {'US': [np.nan], 'KE': [np.nan], 'UG': [np.nan], 'TZ': [np.nan], 'SJ': [np.nan]}"
   ]
  },
  {
   "cell_type": "code",
   "execution_count": 74,
   "metadata": {},
   "outputs": [
    {
     "data": {
      "text/html": [
       "<div>\n",
       "<style scoped>\n",
       "    .dataframe tbody tr th:only-of-type {\n",
       "        vertical-align: middle;\n",
       "    }\n",
       "\n",
       "    .dataframe tbody tr th {\n",
       "        vertical-align: top;\n",
       "    }\n",
       "\n",
       "    .dataframe thead th {\n",
       "        text-align: right;\n",
       "    }\n",
       "</style>\n",
       "<table border=\"1\" class=\"dataframe\">\n",
       "  <thead>\n",
       "    <tr style=\"text-align: right;\">\n",
       "      <th></th>\n",
       "      <th>input_img</th>\n",
       "      <th>latitude</th>\n",
       "      <th>longitude</th>\n",
       "      <th>being_labeled</th>\n",
       "      <th>country</th>\n",
       "      <th>admin1</th>\n",
       "      <th>admin2</th>\n",
       "      <th>cc</th>\n",
       "      <th>location</th>\n",
       "      <th>test_set</th>\n",
       "      <th>time</th>\n",
       "      <th>focal_length</th>\n",
       "      <th>pixel_height</th>\n",
       "    </tr>\n",
       "  </thead>\n",
       "  <tbody>\n",
       "    <tr>\n",
       "      <th>0</th>\n",
       "      <td>gs://street2sat-uploaded/2021-07-08-T1/GPEJ8113.JPG</td>\n",
       "      <td>-0.004148</td>\n",
       "      <td>36.223770</td>\n",
       "      <td>False</td>\n",
       "      <td>NaN</td>\n",
       "      <td>Laikipia</td>\n",
       "      <td>NaN</td>\n",
       "      <td>KE</td>\n",
       "      <td>Nyahururu</td>\n",
       "      <td>False</td>\n",
       "      <td>2021-07-08 11:07:59+00:00</td>\n",
       "      <td>3</td>\n",
       "      <td>2028</td>\n",
       "    </tr>\n",
       "    <tr>\n",
       "      <th>1</th>\n",
       "      <td>gs://street2sat-uploaded/2021-07-08-T1/GPEJ8113.JPG</td>\n",
       "      <td>-0.004148</td>\n",
       "      <td>36.223770</td>\n",
       "      <td>False</td>\n",
       "      <td>NaN</td>\n",
       "      <td>Laikipia</td>\n",
       "      <td>NaN</td>\n",
       "      <td>KE</td>\n",
       "      <td>Nyahururu</td>\n",
       "      <td>False</td>\n",
       "      <td>2021-07-08 11:07:59+00:00</td>\n",
       "      <td>3</td>\n",
       "      <td>2028</td>\n",
       "    </tr>\n",
       "    <tr>\n",
       "      <th>2</th>\n",
       "      <td>gs://street2sat-uploaded/2021-07-08-T1/GPEJ8114.JPG</td>\n",
       "      <td>-0.004141</td>\n",
       "      <td>36.223775</td>\n",
       "      <td>False</td>\n",
       "      <td>NaN</td>\n",
       "      <td>Laikipia</td>\n",
       "      <td>NaN</td>\n",
       "      <td>KE</td>\n",
       "      <td>Nyahururu</td>\n",
       "      <td>False</td>\n",
       "      <td>2021-07-08 11:08:00+00:00</td>\n",
       "      <td>3</td>\n",
       "      <td>2028</td>\n",
       "    </tr>\n",
       "    <tr>\n",
       "      <th>3</th>\n",
       "      <td>gs://street2sat-uploaded/2021-07-08-T1/GPEJ8115.JPG</td>\n",
       "      <td>-0.004130</td>\n",
       "      <td>36.223784</td>\n",
       "      <td>False</td>\n",
       "      <td>NaN</td>\n",
       "      <td>Laikipia</td>\n",
       "      <td>NaN</td>\n",
       "      <td>KE</td>\n",
       "      <td>Nyahururu</td>\n",
       "      <td>False</td>\n",
       "      <td>2021-07-08 11:08:00+00:00</td>\n",
       "      <td>3</td>\n",
       "      <td>2028</td>\n",
       "    </tr>\n",
       "    <tr>\n",
       "      <th>4</th>\n",
       "      <td>gs://street2sat-uploaded/2021-07-08-T1/GPEJ8116.JPG</td>\n",
       "      <td>-0.004120</td>\n",
       "      <td>36.223791</td>\n",
       "      <td>False</td>\n",
       "      <td>NaN</td>\n",
       "      <td>Laikipia</td>\n",
       "      <td>NaN</td>\n",
       "      <td>KE</td>\n",
       "      <td>Nyahururu</td>\n",
       "      <td>False</td>\n",
       "      <td>2021-07-08 11:08:01+00:00</td>\n",
       "      <td>3</td>\n",
       "      <td>2028</td>\n",
       "    </tr>\n",
       "    <tr>\n",
       "      <th>...</th>\n",
       "      <td>...</td>\n",
       "      <td>...</td>\n",
       "      <td>...</td>\n",
       "      <td>...</td>\n",
       "      <td>...</td>\n",
       "      <td>...</td>\n",
       "      <td>...</td>\n",
       "      <td>...</td>\n",
       "      <td>...</td>\n",
       "      <td>...</td>\n",
       "      <td>...</td>\n",
       "      <td>...</td>\n",
       "      <td>...</td>\n",
       "    </tr>\n",
       "    <tr>\n",
       "      <th>3324595</th>\n",
       "      <td>gs://street2sat-uploaded/Uganda/2022-08-07_Kiryandongo_and_Luweero-Car/105GOPRO/G0101023.JPG</td>\n",
       "      <td>0.496785</td>\n",
       "      <td>32.522579</td>\n",
       "      <td>False</td>\n",
       "      <td>Uganda</td>\n",
       "      <td>Central Region</td>\n",
       "      <td>Wakiso District</td>\n",
       "      <td>UG</td>\n",
       "      <td>Wakiso</td>\n",
       "      <td>False</td>\n",
       "      <td>2022-08-07 10:01:26+00:00</td>\n",
       "      <td>3</td>\n",
       "      <td>3000</td>\n",
       "    </tr>\n",
       "    <tr>\n",
       "      <th>3324596</th>\n",
       "      <td>gs://street2sat-uploaded/Uganda/2022-08-07_Kiryandongo_and_Luweero-Car/105GOPRO/G0101024.JPG</td>\n",
       "      <td>0.496718</td>\n",
       "      <td>32.522585</td>\n",
       "      <td>False</td>\n",
       "      <td>Uganda</td>\n",
       "      <td>Central Region</td>\n",
       "      <td>Wakiso District</td>\n",
       "      <td>UG</td>\n",
       "      <td>Wakiso</td>\n",
       "      <td>False</td>\n",
       "      <td>2022-08-07 10:01:27+00:00</td>\n",
       "      <td>3</td>\n",
       "      <td>3000</td>\n",
       "    </tr>\n",
       "    <tr>\n",
       "      <th>3324597</th>\n",
       "      <td>gs://street2sat-uploaded/Uganda/2022-08-07_Kiryandongo_and_Luweero-Car/105GOPRO/G0101025.JPG</td>\n",
       "      <td>0.496635</td>\n",
       "      <td>32.522593</td>\n",
       "      <td>False</td>\n",
       "      <td>Uganda</td>\n",
       "      <td>Central Region</td>\n",
       "      <td>Wakiso District</td>\n",
       "      <td>UG</td>\n",
       "      <td>Wakiso</td>\n",
       "      <td>False</td>\n",
       "      <td>2022-08-07 10:01:27+00:00</td>\n",
       "      <td>3</td>\n",
       "      <td>3000</td>\n",
       "    </tr>\n",
       "    <tr>\n",
       "      <th>3324598</th>\n",
       "      <td>gs://street2sat-uploaded/Uganda/2022-08-07_Kiryandongo_and_Luweero-Car/105GOPRO/G0101026.JPG</td>\n",
       "      <td>0.496561</td>\n",
       "      <td>32.522602</td>\n",
       "      <td>False</td>\n",
       "      <td>Uganda</td>\n",
       "      <td>Central Region</td>\n",
       "      <td>Wakiso District</td>\n",
       "      <td>UG</td>\n",
       "      <td>Wakiso</td>\n",
       "      <td>False</td>\n",
       "      <td>2022-08-07 10:01:28+00:00</td>\n",
       "      <td>3</td>\n",
       "      <td>3000</td>\n",
       "    </tr>\n",
       "    <tr>\n",
       "      <th>3324599</th>\n",
       "      <td>gs://street2sat-uploaded/Uganda/2022-08-07_Kiryandongo_and_Luweero-Car/105GOPRO/G0101027.JPG</td>\n",
       "      <td>0.496511</td>\n",
       "      <td>32.522606</td>\n",
       "      <td>False</td>\n",
       "      <td>Uganda</td>\n",
       "      <td>Central Region</td>\n",
       "      <td>Wakiso District</td>\n",
       "      <td>UG</td>\n",
       "      <td>Wakiso</td>\n",
       "      <td>False</td>\n",
       "      <td>2022-08-07 10:01:28+00:00</td>\n",
       "      <td>3</td>\n",
       "      <td>3000</td>\n",
       "    </tr>\n",
       "  </tbody>\n",
       "</table>\n",
       "<p>3234854 rows × 13 columns</p>\n",
       "</div>"
      ],
      "text/plain": [
       "                                                                                            input_img  \\\n",
       "0                                                 gs://street2sat-uploaded/2021-07-08-T1/GPEJ8113.JPG   \n",
       "1                                                 gs://street2sat-uploaded/2021-07-08-T1/GPEJ8113.JPG   \n",
       "2                                                 gs://street2sat-uploaded/2021-07-08-T1/GPEJ8114.JPG   \n",
       "3                                                 gs://street2sat-uploaded/2021-07-08-T1/GPEJ8115.JPG   \n",
       "4                                                 gs://street2sat-uploaded/2021-07-08-T1/GPEJ8116.JPG   \n",
       "...                                                                                               ...   \n",
       "3324595  gs://street2sat-uploaded/Uganda/2022-08-07_Kiryandongo_and_Luweero-Car/105GOPRO/G0101023.JPG   \n",
       "3324596  gs://street2sat-uploaded/Uganda/2022-08-07_Kiryandongo_and_Luweero-Car/105GOPRO/G0101024.JPG   \n",
       "3324597  gs://street2sat-uploaded/Uganda/2022-08-07_Kiryandongo_and_Luweero-Car/105GOPRO/G0101025.JPG   \n",
       "3324598  gs://street2sat-uploaded/Uganda/2022-08-07_Kiryandongo_and_Luweero-Car/105GOPRO/G0101026.JPG   \n",
       "3324599  gs://street2sat-uploaded/Uganda/2022-08-07_Kiryandongo_and_Luweero-Car/105GOPRO/G0101027.JPG   \n",
       "\n",
       "         latitude  longitude  being_labeled country          admin1  \\\n",
       "0       -0.004148  36.223770          False     NaN        Laikipia   \n",
       "1       -0.004148  36.223770          False     NaN        Laikipia   \n",
       "2       -0.004141  36.223775          False     NaN        Laikipia   \n",
       "3       -0.004130  36.223784          False     NaN        Laikipia   \n",
       "4       -0.004120  36.223791          False     NaN        Laikipia   \n",
       "...           ...        ...            ...     ...             ...   \n",
       "3324595  0.496785  32.522579          False  Uganda  Central Region   \n",
       "3324596  0.496718  32.522585          False  Uganda  Central Region   \n",
       "3324597  0.496635  32.522593          False  Uganda  Central Region   \n",
       "3324598  0.496561  32.522602          False  Uganda  Central Region   \n",
       "3324599  0.496511  32.522606          False  Uganda  Central Region   \n",
       "\n",
       "                  admin2  cc   location  test_set                       time  \\\n",
       "0                    NaN  KE  Nyahururu     False  2021-07-08 11:07:59+00:00   \n",
       "1                    NaN  KE  Nyahururu     False  2021-07-08 11:07:59+00:00   \n",
       "2                    NaN  KE  Nyahururu     False  2021-07-08 11:08:00+00:00   \n",
       "3                    NaN  KE  Nyahururu     False  2021-07-08 11:08:00+00:00   \n",
       "4                    NaN  KE  Nyahururu     False  2021-07-08 11:08:01+00:00   \n",
       "...                  ...  ..        ...       ...                        ...   \n",
       "3324595  Wakiso District  UG     Wakiso     False  2022-08-07 10:01:26+00:00   \n",
       "3324596  Wakiso District  UG     Wakiso     False  2022-08-07 10:01:27+00:00   \n",
       "3324597  Wakiso District  UG     Wakiso     False  2022-08-07 10:01:27+00:00   \n",
       "3324598  Wakiso District  UG     Wakiso     False  2022-08-07 10:01:28+00:00   \n",
       "3324599  Wakiso District  UG     Wakiso     False  2022-08-07 10:01:28+00:00   \n",
       "\n",
       "         focal_length  pixel_height  \n",
       "0                   3          2028  \n",
       "1                   3          2028  \n",
       "2                   3          2028  \n",
       "3                   3          2028  \n",
       "4                   3          2028  \n",
       "...               ...           ...  \n",
       "3324595             3          3000  \n",
       "3324596             3          3000  \n",
       "3324597             3          3000  \n",
       "3324598             3          3000  \n",
       "3324599             3          3000  \n",
       "\n",
       "[3234854 rows x 13 columns]"
      ]
     },
     "execution_count": 74,
     "metadata": {},
     "output_type": "execute_result"
    }
   ],
   "source": [
    "db"
   ]
  },
  {
   "cell_type": "code",
   "execution_count": 56,
   "metadata": {},
   "outputs": [
    {
     "name": "stderr",
     "output_type": "stream",
     "text": [
      "/opt/conda/lib/python3.7/site-packages/IPython/core/interactiveshell.py:3552: DtypeWarning: Columns (7) have mixed types.Specify dtype option on import or set low_memory=False.\n",
      "  exec(code_obj, self.user_global_ns, self.user_ns)\n"
     ]
    },
    {
     "name": "stdout",
     "output_type": "stream",
     "text": [
      "3322233\n"
     ]
    },
    {
     "data": {
      "text/plain": [
       "input_img             0\n",
       "latitude          87378\n",
       "longitude         87378\n",
       "being_labeled         0\n",
       "country               8\n",
       "admin1            90800\n",
       "admin2           325443\n",
       "cc                87378\n",
       "location          87378\n",
       "test_set              0\n",
       "time                  0\n",
       "focal_length          0\n",
       "pixel_height          0\n",
       "dtype: int64"
      ]
     },
     "execution_count": 56,
     "metadata": {},
     "output_type": "execute_result"
    }
   ],
   "source": [
    "# Initialize connections to cloud storage\n",
    "\n",
    "client = storage.Client()\n",
    "\n",
    "# Read csv with database info \n",
    "db = pd.read_csv('gs://street2sat-database-csv/database-info.csv', index_col = 0)\n",
    "\n",
    "# filter to get rid of images currently being labeled \n",
    "db = db[db['being_labeled'] == False]\n",
    "print(len(db))\n",
    "\n",
    "db.isna().sum() \n"
   ]
  },
  {
   "cell_type": "code",
   "execution_count": 115,
   "metadata": {},
   "outputs": [
    {
     "data": {
      "text/html": [
       "<div>\n",
       "<style scoped>\n",
       "    .dataframe tbody tr th:only-of-type {\n",
       "        vertical-align: middle;\n",
       "    }\n",
       "\n",
       "    .dataframe tbody tr th {\n",
       "        vertical-align: top;\n",
       "    }\n",
       "\n",
       "    .dataframe thead th {\n",
       "        text-align: right;\n",
       "    }\n",
       "</style>\n",
       "<table border=\"1\" class=\"dataframe\">\n",
       "  <thead>\n",
       "    <tr style=\"text-align: right;\">\n",
       "      <th></th>\n",
       "      <th>input_img</th>\n",
       "      <th>latitude</th>\n",
       "      <th>longitude</th>\n",
       "      <th>being_labeled</th>\n",
       "      <th>country</th>\n",
       "      <th>admin1</th>\n",
       "      <th>admin2</th>\n",
       "      <th>cc</th>\n",
       "      <th>location</th>\n",
       "      <th>test_set</th>\n",
       "      <th>time</th>\n",
       "      <th>focal_length</th>\n",
       "      <th>pixel_height</th>\n",
       "    </tr>\n",
       "  </thead>\n",
       "  <tbody>\n",
       "  </tbody>\n",
       "</table>\n",
       "</div>"
      ],
      "text/plain": [
       "Empty DataFrame\n",
       "Columns: [input_img, latitude, longitude, being_labeled, country, admin1, admin2, cc, location, test_set, time, focal_length, pixel_height]\n",
       "Index: []"
      ]
     },
     "execution_count": 115,
     "metadata": {},
     "output_type": "execute_result"
    }
   ],
   "source": [
    "db1 = db[db['cc']==\"TZ\"]\n",
    "db1[db1['admin2'].notna()]"
   ]
  },
  {
   "cell_type": "code",
   "execution_count": 110,
   "metadata": {},
   "outputs": [
    {
     "data": {
      "text/plain": [
       "3234854"
      ]
     },
     "execution_count": 110,
     "metadata": {},
     "output_type": "execute_result"
    }
   ],
   "source": [
    "db = db[db['latitude'].notna()]\n",
    "db = db[db['longitude'].notna()]\n",
    "len(db)"
   ]
  },
  {
   "cell_type": "markdown",
   "metadata": {},
   "source": [
    "#### Calculates the area covered by the sampling in each admin2 zone"
   ]
  },
  {
   "cell_type": "code",
   "execution_count": 103,
   "metadata": {},
   "outputs": [
    {
     "data": {
      "text/plain": [
       "3835"
      ]
     },
     "execution_count": 103,
     "metadata": {},
     "output_type": "execute_result"
    }
   ],
   "source": [
    "len(db[(db['admin1'] == 'Illinois') & (db['admin2'] == 'Ford County')])"
   ]
  },
  {
   "cell_type": "code",
   "execution_count": 111,
   "metadata": {},
   "outputs": [
    {
     "name": "stderr",
     "output_type": "stream",
     "text": [
      "  0%|          | 0/4 [00:00<?, ?it/s]"
     ]
    },
    {
     "name": "stdout",
     "output_type": "stream",
     "text": [
      "Country Code: KE\n",
      "Using admin zone level: admin1\n"
     ]
    },
    {
     "name": "stderr",
     "output_type": "stream",
     "text": [
      " 25%|██▌       | 1/4 [00:04<00:13,  4.60s/it]"
     ]
    },
    {
     "name": "stdout",
     "output_type": "stream",
     "text": [
      "Country Code: US\n",
      "Using admin zone level: admin1\n"
     ]
    },
    {
     "name": "stderr",
     "output_type": "stream",
     "text": [
      " 50%|█████     | 2/4 [00:06<00:05,  2.82s/it]"
     ]
    },
    {
     "name": "stdout",
     "output_type": "stream",
     "text": [
      "Country Code: UG\n",
      "Using admin zone level: admin1\n"
     ]
    },
    {
     "name": "stderr",
     "output_type": "stream",
     "text": [
      "100%|██████████| 4/4 [00:08<00:00,  2.06s/it]"
     ]
    },
    {
     "name": "stdout",
     "output_type": "stream",
     "text": [
      "Country Code: TZ\n",
      "Using admin zone level: admin2\n",
      "Calculated images to sample:  1018.0\n",
      "Total images:  3213014\n"
     ]
    },
    {
     "name": "stderr",
     "output_type": "stream",
     "text": [
      "\n"
     ]
    },
    {
     "data": {
      "text/html": [
       "<div>\n",
       "<style scoped>\n",
       "    .dataframe tbody tr th:only-of-type {\n",
       "        vertical-align: middle;\n",
       "    }\n",
       "\n",
       "    .dataframe tbody tr th {\n",
       "        vertical-align: top;\n",
       "    }\n",
       "\n",
       "    .dataframe thead th {\n",
       "        text-align: right;\n",
       "    }\n",
       "</style>\n",
       "<table border=\"1\" class=\"dataframe\">\n",
       "  <thead>\n",
       "    <tr style=\"text-align: right;\">\n",
       "      <th></th>\n",
       "      <th>cc</th>\n",
       "      <th>area</th>\n",
       "      <th>total_images</th>\n",
       "      <th>admin_info</th>\n",
       "      <th>num_images_to_sample</th>\n",
       "    </tr>\n",
       "  </thead>\n",
       "  <tbody>\n",
       "    <tr>\n",
       "      <th>0</th>\n",
       "      <td>KE</td>\n",
       "      <td>53.713220</td>\n",
       "      <td>1640</td>\n",
       "      <td>{'admin1': 'Bomet', 0: 1640}</td>\n",
       "      <td>1.0</td>\n",
       "    </tr>\n",
       "    <tr>\n",
       "      <th>1</th>\n",
       "      <td>KE</td>\n",
       "      <td>1997.707091</td>\n",
       "      <td>6728</td>\n",
       "      <td>{'admin1': 'Bungoma', 0: 6728}</td>\n",
       "      <td>6.0</td>\n",
       "    </tr>\n",
       "    <tr>\n",
       "      <th>2</th>\n",
       "      <td>KE</td>\n",
       "      <td>2869.056811</td>\n",
       "      <td>6800</td>\n",
       "      <td>{'admin1': 'Busia', 0: 6800}</td>\n",
       "      <td>8.0</td>\n",
       "    </tr>\n",
       "    <tr>\n",
       "      <th>3</th>\n",
       "      <td>KE</td>\n",
       "      <td>1924.726918</td>\n",
       "      <td>5059</td>\n",
       "      <td>{'admin1': 'Homa Bay', 0: 5059}</td>\n",
       "      <td>6.0</td>\n",
       "    </tr>\n",
       "    <tr>\n",
       "      <th>4</th>\n",
       "      <td>KE</td>\n",
       "      <td>1871.408454</td>\n",
       "      <td>3282</td>\n",
       "      <td>{'admin1': 'Kakamega', 0: 3282}</td>\n",
       "      <td>6.0</td>\n",
       "    </tr>\n",
       "    <tr>\n",
       "      <th>5</th>\n",
       "      <td>KE</td>\n",
       "      <td>4791.489016</td>\n",
       "      <td>7133</td>\n",
       "      <td>{'admin1': 'Kericho', 0: 7133}</td>\n",
       "      <td>14.0</td>\n",
       "    </tr>\n",
       "    <tr>\n",
       "      <th>6</th>\n",
       "      <td>KE</td>\n",
       "      <td>989.112103</td>\n",
       "      <td>8661</td>\n",
       "      <td>{'admin1': 'Kisii', 0: 8661}</td>\n",
       "      <td>3.0</td>\n",
       "    </tr>\n",
       "    <tr>\n",
       "      <th>7</th>\n",
       "      <td>KE</td>\n",
       "      <td>2860.798534</td>\n",
       "      <td>4537</td>\n",
       "      <td>{'admin1': 'Kisumu', 0: 4537}</td>\n",
       "      <td>8.0</td>\n",
       "    </tr>\n",
       "    <tr>\n",
       "      <th>8</th>\n",
       "      <td>KE</td>\n",
       "      <td>53.555174</td>\n",
       "      <td>544</td>\n",
       "      <td>{'admin1': 'Laikipia', 0: 544}</td>\n",
       "      <td>1.0</td>\n",
       "    </tr>\n",
       "    <tr>\n",
       "      <th>9</th>\n",
       "      <td>KE</td>\n",
       "      <td>501.258093</td>\n",
       "      <td>6939</td>\n",
       "      <td>{'admin1': 'Machakos', 0: 6939}</td>\n",
       "      <td>2.0</td>\n",
       "    </tr>\n",
       "    <tr>\n",
       "      <th>10</th>\n",
       "      <td>KE</td>\n",
       "      <td>0.290753</td>\n",
       "      <td>109</td>\n",
       "      <td>{'admin1': 'Marakwet District', 0: 109}</td>\n",
       "      <td>1.0</td>\n",
       "    </tr>\n",
       "    <tr>\n",
       "      <th>11</th>\n",
       "      <td>KE</td>\n",
       "      <td>296.399559</td>\n",
       "      <td>2263</td>\n",
       "      <td>{'admin1': 'Migori', 0: 2263}</td>\n",
       "      <td>1.0</td>\n",
       "    </tr>\n",
       "    <tr>\n",
       "      <th>12</th>\n",
       "      <td>KE</td>\n",
       "      <td>0.348860</td>\n",
       "      <td>587</td>\n",
       "      <td>{'admin1': 'Nairobi Area', 0: 587}</td>\n",
       "      <td>1.0</td>\n",
       "    </tr>\n",
       "    <tr>\n",
       "      <th>13</th>\n",
       "      <td>KE</td>\n",
       "      <td>6902.636375</td>\n",
       "      <td>70196</td>\n",
       "      <td>{'admin1': 'Nakuru', 0: 70196}</td>\n",
       "      <td>19.0</td>\n",
       "    </tr>\n",
       "    <tr>\n",
       "      <th>14</th>\n",
       "      <td>KE</td>\n",
       "      <td>1820.670416</td>\n",
       "      <td>6035</td>\n",
       "      <td>{'admin1': 'Nandi', 0: 6035}</td>\n",
       "      <td>5.0</td>\n",
       "    </tr>\n",
       "    <tr>\n",
       "      <th>15</th>\n",
       "      <td>KE</td>\n",
       "      <td>2149.287755</td>\n",
       "      <td>5668</td>\n",
       "      <td>{'admin1': 'Narok', 0: 5668}</td>\n",
       "      <td>6.0</td>\n",
       "    </tr>\n",
       "    <tr>\n",
       "      <th>16</th>\n",
       "      <td>KE</td>\n",
       "      <td>579.078810</td>\n",
       "      <td>1770</td>\n",
       "      <td>{'admin1': 'Nyamira District', 0: 1770}</td>\n",
       "      <td>2.0</td>\n",
       "    </tr>\n",
       "    <tr>\n",
       "      <th>17</th>\n",
       "      <td>KE</td>\n",
       "      <td>0.608881</td>\n",
       "      <td>351</td>\n",
       "      <td>{'admin1': 'Nyandarua', 0: 351}</td>\n",
       "      <td>1.0</td>\n",
       "    </tr>\n",
       "    <tr>\n",
       "      <th>18</th>\n",
       "      <td>KE</td>\n",
       "      <td>4063.950232</td>\n",
       "      <td>12974</td>\n",
       "      <td>{'admin1': 'Siaya', 0: 12974}</td>\n",
       "      <td>12.0</td>\n",
       "    </tr>\n",
       "    <tr>\n",
       "      <th>19</th>\n",
       "      <td>KE</td>\n",
       "      <td>1810.767312</td>\n",
       "      <td>13652</td>\n",
       "      <td>{'admin1': 'Trans Nzoia', 0: 13652}</td>\n",
       "      <td>5.0</td>\n",
       "    </tr>\n",
       "    <tr>\n",
       "      <th>20</th>\n",
       "      <td>KE</td>\n",
       "      <td>1668.357924</td>\n",
       "      <td>2916</td>\n",
       "      <td>{'admin1': 'Uasin Gishu', 0: 2916}</td>\n",
       "      <td>5.0</td>\n",
       "    </tr>\n",
       "    <tr>\n",
       "      <th>21</th>\n",
       "      <td>KE</td>\n",
       "      <td>915.766953</td>\n",
       "      <td>5683</td>\n",
       "      <td>{'admin1': 'West Pokot', 0: 5683}</td>\n",
       "      <td>3.0</td>\n",
       "    </tr>\n",
       "    <tr>\n",
       "      <th>22</th>\n",
       "      <td>US</td>\n",
       "      <td>12.251826</td>\n",
       "      <td>508</td>\n",
       "      <td>{'admin1': 'Delaware', 0: 508}</td>\n",
       "      <td>1.0</td>\n",
       "    </tr>\n",
       "    <tr>\n",
       "      <th>23</th>\n",
       "      <td>US</td>\n",
       "      <td>31133.470325</td>\n",
       "      <td>29582</td>\n",
       "      <td>{'admin1': 'Illinois', 0: 29582}</td>\n",
       "      <td>86.0</td>\n",
       "    </tr>\n",
       "    <tr>\n",
       "      <th>24</th>\n",
       "      <td>US</td>\n",
       "      <td>22647.679932</td>\n",
       "      <td>33333</td>\n",
       "      <td>{'admin1': 'Indiana', 0: 33333}</td>\n",
       "      <td>63.0</td>\n",
       "    </tr>\n",
       "    <tr>\n",
       "      <th>25</th>\n",
       "      <td>US</td>\n",
       "      <td>245.363706</td>\n",
       "      <td>6850</td>\n",
       "      <td>{'admin1': 'Iowa', 0: 6850}</td>\n",
       "      <td>1.0</td>\n",
       "    </tr>\n",
       "    <tr>\n",
       "      <th>26</th>\n",
       "      <td>US</td>\n",
       "      <td>0.000122</td>\n",
       "      <td>22</td>\n",
       "      <td>{'admin1': 'Maryland', 0: 22}</td>\n",
       "      <td>1.0</td>\n",
       "    </tr>\n",
       "    <tr>\n",
       "      <th>27</th>\n",
       "      <td>US</td>\n",
       "      <td>279.079288</td>\n",
       "      <td>3962</td>\n",
       "      <td>{'admin1': 'Minnesota', 0: 3962}</td>\n",
       "      <td>1.0</td>\n",
       "    </tr>\n",
       "    <tr>\n",
       "      <th>28</th>\n",
       "      <td>US</td>\n",
       "      <td>544.771876</td>\n",
       "      <td>16150</td>\n",
       "      <td>{'admin1': 'Ohio', 0: 16150}</td>\n",
       "      <td>2.0</td>\n",
       "    </tr>\n",
       "    <tr>\n",
       "      <th>29</th>\n",
       "      <td>UG</td>\n",
       "      <td>20607.080969</td>\n",
       "      <td>999441</td>\n",
       "      <td>{'admin1': 'Central Region', 0: 999441}</td>\n",
       "      <td>57.0</td>\n",
       "    </tr>\n",
       "    <tr>\n",
       "      <th>30</th>\n",
       "      <td>UG</td>\n",
       "      <td>44124.248468</td>\n",
       "      <td>792319</td>\n",
       "      <td>{'admin1': 'Eastern Region', 0: 792319}</td>\n",
       "      <td>121.0</td>\n",
       "    </tr>\n",
       "    <tr>\n",
       "      <th>31</th>\n",
       "      <td>UG</td>\n",
       "      <td>120989.936875</td>\n",
       "      <td>788826</td>\n",
       "      <td>{'admin1': 'Northern Region', 0: 788826}</td>\n",
       "      <td>332.0</td>\n",
       "    </tr>\n",
       "    <tr>\n",
       "      <th>32</th>\n",
       "      <td>UG</td>\n",
       "      <td>86548.575231</td>\n",
       "      <td>368494</td>\n",
       "      <td>{'admin1': 'Western Region', 0: 368494}</td>\n",
       "      <td>237.0</td>\n",
       "    </tr>\n",
       "  </tbody>\n",
       "</table>\n",
       "</div>"
      ],
      "text/plain": [
       "    cc           area  total_images                                admin_info  \\\n",
       "0   KE      53.713220          1640              {'admin1': 'Bomet', 0: 1640}   \n",
       "1   KE    1997.707091          6728            {'admin1': 'Bungoma', 0: 6728}   \n",
       "2   KE    2869.056811          6800              {'admin1': 'Busia', 0: 6800}   \n",
       "3   KE    1924.726918          5059           {'admin1': 'Homa Bay', 0: 5059}   \n",
       "4   KE    1871.408454          3282           {'admin1': 'Kakamega', 0: 3282}   \n",
       "5   KE    4791.489016          7133            {'admin1': 'Kericho', 0: 7133}   \n",
       "6   KE     989.112103          8661              {'admin1': 'Kisii', 0: 8661}   \n",
       "7   KE    2860.798534          4537             {'admin1': 'Kisumu', 0: 4537}   \n",
       "8   KE      53.555174           544            {'admin1': 'Laikipia', 0: 544}   \n",
       "9   KE     501.258093          6939           {'admin1': 'Machakos', 0: 6939}   \n",
       "10  KE       0.290753           109   {'admin1': 'Marakwet District', 0: 109}   \n",
       "11  KE     296.399559          2263             {'admin1': 'Migori', 0: 2263}   \n",
       "12  KE       0.348860           587        {'admin1': 'Nairobi Area', 0: 587}   \n",
       "13  KE    6902.636375         70196            {'admin1': 'Nakuru', 0: 70196}   \n",
       "14  KE    1820.670416          6035              {'admin1': 'Nandi', 0: 6035}   \n",
       "15  KE    2149.287755          5668              {'admin1': 'Narok', 0: 5668}   \n",
       "16  KE     579.078810          1770   {'admin1': 'Nyamira District', 0: 1770}   \n",
       "17  KE       0.608881           351           {'admin1': 'Nyandarua', 0: 351}   \n",
       "18  KE    4063.950232         12974             {'admin1': 'Siaya', 0: 12974}   \n",
       "19  KE    1810.767312         13652       {'admin1': 'Trans Nzoia', 0: 13652}   \n",
       "20  KE    1668.357924          2916        {'admin1': 'Uasin Gishu', 0: 2916}   \n",
       "21  KE     915.766953          5683         {'admin1': 'West Pokot', 0: 5683}   \n",
       "22  US      12.251826           508            {'admin1': 'Delaware', 0: 508}   \n",
       "23  US   31133.470325         29582          {'admin1': 'Illinois', 0: 29582}   \n",
       "24  US   22647.679932         33333           {'admin1': 'Indiana', 0: 33333}   \n",
       "25  US     245.363706          6850               {'admin1': 'Iowa', 0: 6850}   \n",
       "26  US       0.000122            22             {'admin1': 'Maryland', 0: 22}   \n",
       "27  US     279.079288          3962          {'admin1': 'Minnesota', 0: 3962}   \n",
       "28  US     544.771876         16150              {'admin1': 'Ohio', 0: 16150}   \n",
       "29  UG   20607.080969        999441   {'admin1': 'Central Region', 0: 999441}   \n",
       "30  UG   44124.248468        792319   {'admin1': 'Eastern Region', 0: 792319}   \n",
       "31  UG  120989.936875        788826  {'admin1': 'Northern Region', 0: 788826}   \n",
       "32  UG   86548.575231        368494   {'admin1': 'Western Region', 0: 368494}   \n",
       "\n",
       "    num_images_to_sample  \n",
       "0                    1.0  \n",
       "1                    6.0  \n",
       "2                    8.0  \n",
       "3                    6.0  \n",
       "4                    6.0  \n",
       "5                   14.0  \n",
       "6                    3.0  \n",
       "7                    8.0  \n",
       "8                    1.0  \n",
       "9                    2.0  \n",
       "10                   1.0  \n",
       "11                   1.0  \n",
       "12                   1.0  \n",
       "13                  19.0  \n",
       "14                   5.0  \n",
       "15                   6.0  \n",
       "16                   2.0  \n",
       "17                   1.0  \n",
       "18                  12.0  \n",
       "19                   5.0  \n",
       "20                   5.0  \n",
       "21                   3.0  \n",
       "22                   1.0  \n",
       "23                  86.0  \n",
       "24                  63.0  \n",
       "25                   1.0  \n",
       "26                   1.0  \n",
       "27                   1.0  \n",
       "28                   2.0  \n",
       "29                  57.0  \n",
       "30                 121.0  \n",
       "31                 332.0  \n",
       "32                 237.0  "
      ]
     },
     "execution_count": 111,
     "metadata": {},
     "output_type": "execute_result"
    }
   ],
   "source": [
    "def area_for_admin2_km2(filtered_db):\n",
    "    min_lon = filtered_db['longitude'].min()\n",
    "    max_lon = filtered_db['longitude'].max()\n",
    "    min_lat = filtered_db['latitude'].min()\n",
    "    max_lat = filtered_db['latitude'].max()\n",
    "\n",
    "    polygon = Polygon(\n",
    "            [\n",
    "                [min_lon, min_lat],\n",
    "                [min_lon, max_lat],\n",
    "                [max_lon, max_lat],\n",
    "                [max_lon, min_lat],\n",
    "            ]\n",
    "        )\n",
    "    \n",
    "    polygon = ops.transform(\n",
    "            partial(\n",
    "                pyproj.transform,\n",
    "                pyproj.Proj(init=\"EPSG:4326\"),\n",
    "                pyproj.Proj(\n",
    "                    proj=\"aea\", lat_1=polygon.bounds[1], lat_2=polygon.bounds[3]\n",
    "                ),\n",
    "            ),\n",
    "            polygon,\n",
    "        )\n",
    "    return polygon.area * 1e-6\n",
    "\n",
    "\n",
    "'''\n",
    "Returns the number of images to sample from each admin zone based on the formula given above \n",
    "'''\n",
    "def get_areas_km2(db):\n",
    "\n",
    "    country_admin2_area_images = []\n",
    "    for cc in tqdm(db['cc'].unique()): \n",
    "        print(f\"Country Code: {cc}\")\n",
    "        admin_level = admin_zone_to_use[cc]\n",
    "        print(f\"Using admin zone level: {admin_level}\")\n",
    "        \n",
    "        if admin_level == 'admin1':\n",
    "            admin_zones = db[db['cc'] == cc].groupby(['admin1']).size().reset_index()\n",
    "        elif admin_level == 'admin2':\n",
    "            admin_zones = db[db['cc'] == cc].groupby(['admin1', 'admin2']).size().reset_index()\n",
    "\n",
    "        if cc in to_drop: \n",
    "            for zone_to_drop in to_drop[cc]: \n",
    "                admin_zones = admin_zones[admin_zones[admin_level] != zone_to_drop] \n",
    "\n",
    "        for _,admin_info in admin_zones.iterrows(): \n",
    "            if admin_level == 'admin1':\n",
    "                filtered_db = db[db[admin_level] == admin_info['admin1']]\n",
    "            elif admin_level == 'admin2':\n",
    "                filtered_db = db[(db['admin1'] == admin_info['admin1']) & (db['admin2'] == admin_info['admin2'])]\n",
    "                \n",
    "            total_images_for_zone = len(filtered_db)\n",
    "            # try:              \n",
    "            area = area_for_admin2_km2(filtered_db) \n",
    "            t = (cc, area, total_images_for_zone, dict(admin_info))\n",
    "            country_admin2_area_images.append(t)\n",
    "            # except:\n",
    "            #     pass\n",
    "        \n",
    "    area_info = pd.DataFrame(country_admin2_area_images, columns=['cc', 'area', 'total_images', 'admin_info'])\n",
    "\n",
    "    area_info['num_images_to_sample'] = (area_info['area'] / area_info['area'].sum()) * DATASET_SIZE\n",
    "\n",
    "    area_info['num_images_to_sample'] = area_info['num_images_to_sample'].apply(np.ceil)\n",
    "\n",
    "    return area_info\n",
    "\n",
    "\n",
    "area_info = get_areas_km2(db)  \n",
    "print('Calculated images to sample: ', area_info['num_images_to_sample'].sum())\n",
    "print('Total images: ', area_info['total_images'].sum())\n",
    "area_info\n"
   ]
  },
  {
   "cell_type": "code",
   "execution_count": 112,
   "metadata": {},
   "outputs": [
    {
     "name": "stdout",
     "output_type": "stream",
     "text": [
      "             area  total_images  num_images_to_sample\n",
      "cc                                                   \n",
      "KE   38120.989243        173527                 116.0\n",
      "UG  272269.841542       2949080                 747.0\n",
      "US   54862.617074         90407                 155.0\n"
     ]
    },
    {
     "data": {
      "text/plain": [
       "<AxesSubplot:title={'center':'Total Area Covered'}, ylabel='area'>"
      ]
     },
     "execution_count": 112,
     "metadata": {},
     "output_type": "execute_result"
    },
    {
     "data": {
      "image/png": "[encoded data removed]",
      "text/plain": [
       "<Figure size 432x288 with 1 Axes>"
      ]
     },
     "metadata": {},
     "output_type": "display_data"
    }
   ],
   "source": [
    "g = area_info.groupby(['cc']).sum()\n",
    "print(g)\n",
    "g.plot.pie(y='area', title=\"Total Area Covered\", legend=True, autopct='%1.1f%%')"
   ]
  },
  {
   "cell_type": "code",
   "execution_count": 61,
   "metadata": {},
   "outputs": [
    {
     "name": "stdout",
     "output_type": "stream",
     "text": [
      "             area  total_images  num_images_to_sample\n",
      "cc                                                   \n",
      "KE   38120.989243        173527                 116.0\n",
      "UG  272269.841542       2949080                 747.0\n",
      "US   54862.617074         90407                 155.0\n"
     ]
    },
    {
     "data": {
      "text/plain": [
       "<AxesSubplot:title={'center':'Number of Images In Sample'}, ylabel='num_images_to_sample'>"
      ]
     },
     "execution_count": 61,
     "metadata": {},
     "output_type": "execute_result"
    },
    {
     "data": {
      "image/png": "[encoded data removed]",
      "text/plain": [
       "<Figure size 432x288 with 1 Axes>"
      ]
     },
     "metadata": {},
     "output_type": "display_data"
    },
    {
     "data": {
      "image/png": "[encoded data removed]",
      "text/plain": [
       "<Figure size 432x288 with 1 Axes>"
      ]
     },
     "metadata": {},
     "output_type": "display_data"
    },
    {
     "data": {
      "image/png": "[encoded data removed]",
      "text/plain": [
       "<Figure size 432x288 with 1 Axes>"
      ]
     },
     "metadata": {},
     "output_type": "display_data"
    }
   ],
   "source": [
    "g = area_info.groupby(['cc']).sum()\n",
    "print(g)\n",
    "g.plot.pie(y='area', title=\"Total Area Covered\", legend=True, autopct='%1.1f%%')\n",
    "g.plot.pie(y='total_images', title=\"Total Images Taken\", legend=True, autopct='%1.1f%%')\n",
    "g.plot.pie(y='num_images_to_sample', title=\"Number of Images In Sample\", legend=True, autopct='%1.1f%%')"
   ]
  },
  {
   "cell_type": "markdown",
   "metadata": {},
   "source": [
    "#### Plot Areas\n",
    " \n",
    "Modify the code below to plot the total points in a certain area"
   ]
  },
  {
   "cell_type": "code",
   "execution_count": 51,
   "metadata": {},
   "outputs": [
    {
     "data": {
      "application/vnd.plotly.v1+json": {
       "config": {
        "plotlyServerURL": "https://plot.ly"
       },
       "data": [
        {
         "hovertemplate": "latitude=%{lat}<br>longitude=%{lon}<extra></extra>",
         "lat": [],
         "legendgroup": "",
         "lon": [],
         "marker": {
          "color": "#636efa"
         },
         "mode": "markers",
         "name": "",
         "showlegend": false,
         "subplot": "mapbox",
         "type": "scattermapbox"
        }
       ],
       "layout": {
        "autosize": true,
        "legend": {
         "tracegroupgap": 0
        },
        "mapbox": {
         "accesstoken": "pk.eyJ1IjoibWFuZ29tYWRoYXZhIiwiYSI6ImNrdWcyNHh2OTIwMmQzMW56eWFibjUwY3QifQ.aQydTOk0ne3KrV87Ib_TrQ",
         "bearing": 0,
         "center": {
          "lat": -69.11018498490978,
          "lon": -66.03341455752366
         },
         "domain": {
          "x": [
           0,
           1
          ],
          "y": [
           0,
           1
          ]
         },
         "pitch": 0,
         "zoom": 1.7996172789116929
        },
        "margin": {
         "t": 60
        },
        "template": {
         "data": {
          "bar": [
           {
            "error_x": {
             "color": "#2a3f5f"
            },
            "error_y": {
             "color": "#2a3f5f"
            },
            "marker": {
             "line": {
              "color": "#E5ECF6",
              "width": 0.5
             },
             "pattern": {
              "fillmode": "overlay",
              "size": 10,
              "solidity": 0.2
             }
            },
            "type": "bar"
           }
          ],
          "barpolar": [
           {
            "marker": {
             "line": {
              "color": "#E5ECF6",
              "width": 0.5
             },
             "pattern": {
              "fillmode": "overlay",
              "size": 10,
              "solidity": 0.2
             }
            },
            "type": "barpolar"
           }
          ],
          "carpet": [
           {
            "aaxis": {
             "endlinecolor": "#2a3f5f",
             "gridcolor": "white",
             "linecolor": "white",
             "minorgridcolor": "white",
             "startlinecolor": "#2a3f5f"
            },
            "baxis": {
             "endlinecolor": "#2a3f5f",
             "gridcolor": "white",
             "linecolor": "white",
             "minorgridcolor": "white",
             "startlinecolor": "#2a3f5f"
            },
            "type": "carpet"
           }
          ],
          "choropleth": [
           {
            "colorbar": {
             "outlinewidth": 0,
             "ticks": ""
            },
            "type": "choropleth"
           }
          ],
          "contour": [
           {
            "colorbar": {
             "outlinewidth": 0,
             "ticks": ""
            },
            "colorscale": [
             [
              0,
              "#0d0887"
             ],
             [
              0.1111111111111111,
              "#46039f"
             ],
             [
              0.2222222222222222,
              "#7201a8"
             ],
             [
              0.3333333333333333,
              "#9c179e"
             ],
             [
              0.4444444444444444,
              "#bd3786"
             ],
             [
              0.5555555555555556,
              "#d8576b"
             ],
             [
              0.6666666666666666,
              "#ed7953"
             ],
             [
              0.7777777777777778,
              "#fb9f3a"
             ],
             [
              0.8888888888888888,
              "#fdca26"
             ],
             [
              1,
              "#f0f921"
             ]
            ],
            "type": "contour"
           }
          ],
          "contourcarpet": [
           {
            "colorbar": {
             "outlinewidth": 0,
             "ticks": ""
            },
            "type": "contourcarpet"
           }
          ],
          "heatmap": [
           {
            "colorbar": {
             "outlinewidth": 0,
             "ticks": ""
            },
            "colorscale": [
             [
              0,
              "#0d0887"
             ],
             [
              0.1111111111111111,
              "#46039f"
             ],
             [
              0.2222222222222222,
              "#7201a8"
             ],
             [
              0.3333333333333333,
              "#9c179e"
             ],
             [
              0.4444444444444444,
              "#bd3786"
             ],
             [
              0.5555555555555556,
              "#d8576b"
             ],
             [
              0.6666666666666666,
              "#ed7953"
             ],
             [
              0.7777777777777778,
              "#fb9f3a"
             ],
             [
              0.8888888888888888,
              "#fdca26"
             ],
             [
              1,
              "#f0f921"
             ]
            ],
            "type": "heatmap"
           }
          ],
          "heatmapgl": [
           {
            "colorbar": {
             "outlinewidth": 0,
             "ticks": ""
            },
            "colorscale": [
             [
              0,
              "#0d0887"
             ],
             [
              0.1111111111111111,
              "#46039f"
             ],
             [
              0.2222222222222222,
              "#7201a8"
             ],
             [
              0.3333333333333333,
              "#9c179e"
             ],
             [
              0.4444444444444444,
              "#bd3786"
             ],
             [
              0.5555555555555556,
              "#d8576b"
             ],
             [
              0.6666666666666666,
              "#ed7953"
             ],
             [
              0.7777777777777778,
              "#fb9f3a"
             ],
             [
              0.8888888888888888,
              "#fdca26"
             ],
             [
              1,
              "#f0f921"
             ]
            ],
            "type": "heatmapgl"
           }
          ],
          "histogram": [
           {
            "marker": {
             "pattern": {
              "fillmode": "overlay",
              "size": 10,
              "solidity": 0.2
             }
            },
            "type": "histogram"
           }
          ],
          "histogram2d": [
           {
            "colorbar": {
             "outlinewidth": 0,
             "ticks": ""
            },
            "colorscale": [
             [
              0,
              "#0d0887"
             ],
             [
              0.1111111111111111,
              "#46039f"
             ],
             [
              0.2222222222222222,
              "#7201a8"
             ],
             [
              0.3333333333333333,
              "#9c179e"
             ],
             [
              0.4444444444444444,
              "#bd3786"
             ],
             [
              0.5555555555555556,
              "#d8576b"
             ],
             [
              0.6666666666666666,
              "#ed7953"
             ],
             [
              0.7777777777777778,
              "#fb9f3a"
             ],
             [
              0.8888888888888888,
              "#fdca26"
             ],
             [
              1,
              "#f0f921"
             ]
            ],
            "type": "histogram2d"
           }
          ],
          "histogram2dcontour": [
           {
            "colorbar": {
             "outlinewidth": 0,
             "ticks": ""
            },
            "colorscale": [
             [
              0,
              "#0d0887"
             ],
             [
              0.1111111111111111,
              "#46039f"
             ],
             [
              0.2222222222222222,
              "#7201a8"
             ],
             [
              0.3333333333333333,
              "#9c179e"
             ],
             [
              0.4444444444444444,
              "#bd3786"
             ],
             [
              0.5555555555555556,
              "#d8576b"
             ],
             [
              0.6666666666666666,
              "#ed7953"
             ],
             [
              0.7777777777777778,
              "#fb9f3a"
             ],
             [
              0.8888888888888888,
              "#fdca26"
             ],
             [
              1,
              "#f0f921"
             ]
            ],
            "type": "histogram2dcontour"
           }
          ],
          "mesh3d": [
           {
            "colorbar": {
             "outlinewidth": 0,
             "ticks": ""
            },
            "type": "mesh3d"
           }
          ],
          "parcoords": [
           {
            "line": {
             "colorbar": {
              "outlinewidth": 0,
              "ticks": ""
             }
            },
            "type": "parcoords"
           }
          ],
          "pie": [
           {
            "automargin": true,
            "type": "pie"
           }
          ],
          "scatter": [
           {
            "fillpattern": {
             "fillmode": "overlay",
             "size": 10,
             "solidity": 0.2
            },
            "type": "scatter"
           }
          ],
          "scatter3d": [
           {
            "line": {
             "colorbar": {
              "outlinewidth": 0,
              "ticks": ""
             }
            },
            "marker": {
             "colorbar": {
              "outlinewidth": 0,
              "ticks": ""
             }
            },
            "type": "scatter3d"
           }
          ],
          "scattercarpet": [
           {
            "marker": {
             "colorbar": {
              "outlinewidth": 0,
              "ticks": ""
             }
            },
            "type": "scattercarpet"
           }
          ],
          "scattergeo": [
           {
            "marker": {
             "colorbar": {
              "outlinewidth": 0,
              "ticks": ""
             }
            },
            "type": "scattergeo"
           }
          ],
          "scattergl": [
           {
            "marker": {
             "colorbar": {
              "outlinewidth": 0,
              "ticks": ""
             }
            },
            "type": "scattergl"
           }
          ],
          "scattermapbox": [
           {
            "marker": {
             "colorbar": {
              "outlinewidth": 0,
              "ticks": ""
             }
            },
            "type": "scattermapbox"
           }
          ],
          "scatterpolar": [
           {
            "marker": {
             "colorbar": {
              "outlinewidth": 0,
              "ticks": ""
             }
            },
            "type": "scatterpolar"
           }
          ],
          "scatterpolargl": [
           {
            "marker": {
             "colorbar": {
              "outlinewidth": 0,
              "ticks": ""
             }
            },
            "type": "scatterpolargl"
           }
          ],
          "scatterternary": [
           {
            "marker": {
             "colorbar": {
              "outlinewidth": 0,
              "ticks": ""
             }
            },
            "type": "scatterternary"
           }
          ],
          "surface": [
           {
            "colorbar": {
             "outlinewidth": 0,
             "ticks": ""
            },
            "colorscale": [
             [
              0,
              "#0d0887"
             ],
             [
              0.1111111111111111,
              "#46039f"
             ],
             [
              0.2222222222222222,
              "#7201a8"
             ],
             [
              0.3333333333333333,
              "#9c179e"
             ],
             [
              0.4444444444444444,
              "#bd3786"
             ],
             [
              0.5555555555555556,
              "#d8576b"
             ],
             [
              0.6666666666666666,
              "#ed7953"
             ],
             [
              0.7777777777777778,
              "#fb9f3a"
             ],
             [
              0.8888888888888888,
              "#fdca26"
             ],
             [
              1,
              "#f0f921"
             ]
            ],
            "type": "surface"
           }
          ],
          "table": [
           {
            "cells": {
             "fill": {
              "color": "#EBF0F8"
             },
             "line": {
              "color": "white"
             }
            },
            "header": {
             "fill": {
              "color": "#C8D4E3"
             },
             "line": {
              "color": "white"
             }
            },
            "type": "table"
           }
          ]
         },
         "layout": {
          "annotationdefaults": {
           "arrowcolor": "#2a3f5f",
           "arrowhead": 0,
           "arrowwidth": 1
          },
          "autotypenumbers": "strict",
          "coloraxis": {
           "colorbar": {
            "outlinewidth": 0,
            "ticks": ""
           }
          },
          "colorscale": {
           "diverging": [
            [
             0,
             "#8e0152"
            ],
            [
             0.1,
             "#c51b7d"
            ],
            [
             0.2,
             "#de77ae"
            ],
            [
             0.3,
             "#f1b6da"
            ],
            [
             0.4,
             "#fde0ef"
            ],
            [
             0.5,
             "#f7f7f7"
            ],
            [
             0.6,
             "#e6f5d0"
            ],
            [
             0.7,
             "#b8e186"
            ],
            [
             0.8,
             "#7fbc41"
            ],
            [
             0.9,
             "#4d9221"
            ],
            [
             1,
             "#276419"
            ]
           ],
           "sequential": [
            [
             0,
             "#0d0887"
            ],
            [
             0.1111111111111111,
             "#46039f"
            ],
            [
             0.2222222222222222,
             "#7201a8"
            ],
            [
             0.3333333333333333,
             "#9c179e"
            ],
            [
             0.4444444444444444,
             "#bd3786"
            ],
            [
             0.5555555555555556,
             "#d8576b"
            ],
            [
             0.6666666666666666,
             "#ed7953"
            ],
            [
             0.7777777777777778,
             "#fb9f3a"
            ],
            [
             0.8888888888888888,
             "#fdca26"
            ],
            [
             1,
             "#f0f921"
            ]
           ],
           "sequentialminus": [
            [
             0,
             "#0d0887"
            ],
            [
             0.1111111111111111,
             "#46039f"
            ],
            [
             0.2222222222222222,
             "#7201a8"
            ],
            [
             0.3333333333333333,
             "#9c179e"
            ],
            [
             0.4444444444444444,
             "#bd3786"
            ],
            [
             0.5555555555555556,
             "#d8576b"
            ],
            [
             0.6666666666666666,
             "#ed7953"
            ],
            [
             0.7777777777777778,
             "#fb9f3a"
            ],
            [
             0.8888888888888888,
             "#fdca26"
            ],
            [
             1,
             "#f0f921"
            ]
           ]
          },
          "colorway": [
           "#636efa",
           "#EF553B",
           "#00cc96",
           "#ab63fa",
           "#FFA15A",
           "#19d3f3",
           "#FF6692",
           "#B6E880",
           "#FF97FF",
           "#FECB52"
          ],
          "font": {
           "color": "#2a3f5f"
          },
          "geo": {
           "bgcolor": "white",
           "lakecolor": "white",
           "landcolor": "#E5ECF6",
           "showlakes": true,
           "showland": true,
           "subunitcolor": "white"
          },
          "hoverlabel": {
           "align": "left"
          },
          "hovermode": "closest",
          "mapbox": {
           "style": "light"
          },
          "paper_bgcolor": "white",
          "plot_bgcolor": "#E5ECF6",
          "polar": {
           "angularaxis": {
            "gridcolor": "white",
            "linecolor": "white",
            "ticks": ""
           },
           "bgcolor": "#E5ECF6",
           "radialaxis": {
            "gridcolor": "white",
            "linecolor": "white",
            "ticks": ""
           }
          },
          "scene": {
           "xaxis": {
            "backgroundcolor": "#E5ECF6",
            "gridcolor": "white",
            "gridwidth": 2,
            "linecolor": "white",
            "showbackground": true,
            "ticks": "",
            "zerolinecolor": "white"
           },
           "yaxis": {
            "backgroundcolor": "#E5ECF6",
            "gridcolor": "white",
            "gridwidth": 2,
            "linecolor": "white",
            "showbackground": true,
            "ticks": "",
            "zerolinecolor": "white"
           },
           "zaxis": {
            "backgroundcolor": "#E5ECF6",
            "gridcolor": "white",
            "gridwidth": 2,
            "linecolor": "white",
            "showbackground": true,
            "ticks": "",
            "zerolinecolor": "white"
           }
          },
          "shapedefaults": {
           "line": {
            "color": "#2a3f5f"
           }
          },
          "ternary": {
           "aaxis": {
            "gridcolor": "white",
            "linecolor": "white",
            "ticks": ""
           },
           "baxis": {
            "gridcolor": "white",
            "linecolor": "white",
            "ticks": ""
           },
           "bgcolor": "#E5ECF6",
           "caxis": {
            "gridcolor": "white",
            "linecolor": "white",
            "ticks": ""
           }
          },
          "title": {
           "x": 0.05
          },
          "xaxis": {
           "automargin": true,
           "gridcolor": "white",
           "linecolor": "white",
           "ticks": "",
           "title": {
            "standoff": 15
           },
           "zerolinecolor": "white",
           "zerolinewidth": 2
          },
          "yaxis": {
           "automargin": true,
           "gridcolor": "white",
           "linecolor": "white",
           "ticks": "",
           "title": {
            "standoff": 15
           },
           "zerolinecolor": "white",
           "zerolinewidth": 2
          }
         }
        }
       }
      },
      "image/png": "[encoded data removed]",
      "text/html": [
       "<div>                            <div id=\"7b9a5df2-7b00-4ef9-9f39-d2d07ee81714\" class=\"plotly-graph-div\" style=\"height:525px; width:100%;\"></div>            <script type=\"text/javascript\">                require([\"plotly\"], function(Plotly) {                    window.PLOTLYENV=window.PLOTLYENV || {};                                    if (document.getElementById(\"7b9a5df2-7b00-4ef9-9f39-d2d07ee81714\")) {                    Plotly.newPlot(                        \"7b9a5df2-7b00-4ef9-9f39-d2d07ee81714\",                        [{\"hovertemplate\":\"latitude=%{lat}<br>longitude=%{lon}<extra></extra>\",\"lat\":[],\"legendgroup\":\"\",\"lon\":[],\"marker\":{\"color\":\"#636efa\"},\"mode\":\"markers\",\"name\":\"\",\"showlegend\":false,\"subplot\":\"mapbox\",\"type\":\"scattermapbox\"}],                        {\"template\":{\"data\":{\"histogram2dcontour\":[{\"type\":\"histogram2dcontour\",\"colorbar\":{\"outlinewidth\":0,\"ticks\":\"\"},\"colorscale\":[[0.0,\"#0d0887\"],[0.1111111111111111,\"#46039f\"],[0.2222222222222222,\"#7201a8\"],[0.3333333333333333,\"#9c179e\"],[0.4444444444444444,\"#bd3786\"],[0.5555555555555556,\"#d8576b\"],[0.6666666666666666,\"#ed7953\"],[0.7777777777777778,\"#fb9f3a\"],[0.8888888888888888,\"#fdca26\"],[1.0,\"#f0f921\"]]}],\"choropleth\":[{\"type\":\"choropleth\",\"colorbar\":{\"outlinewidth\":0,\"ticks\":\"\"}}],\"histogram2d\":[{\"type\":\"histogram2d\",\"colorbar\":{\"outlinewidth\":0,\"ticks\":\"\"},\"colorscale\":[[0.0,\"#0d0887\"],[0.1111111111111111,\"#46039f\"],[0.2222222222222222,\"#7201a8\"],[0.3333333333333333,\"#9c179e\"],[0.4444444444444444,\"#bd3786\"],[0.5555555555555556,\"#d8576b\"],[0.6666666666666666,\"#ed7953\"],[0.7777777777777778,\"#fb9f3a\"],[0.8888888888888888,\"#fdca26\"],[1.0,\"#f0f921\"]]}],\"heatmap\":[{\"type\":\"heatmap\",\"colorbar\":{\"outlinewidth\":0,\"ticks\":\"\"},\"colorscale\":[[0.0,\"#0d0887\"],[0.1111111111111111,\"#46039f\"],[0.2222222222222222,\"#7201a8\"],[0.3333333333333333,\"#9c179e\"],[0.4444444444444444,\"#bd3786\"],[0.5555555555555556,\"#d8576b\"],[0.6666666666666666,\"#ed7953\"],[0.7777777777777778,\"#fb9f3a\"],[0.8888888888888888,\"#fdca26\"],[1.0,\"#f0f921\"]]}],\"heatmapgl\":[{\"type\":\"heatmapgl\",\"colorbar\":{\"outlinewidth\":0,\"ticks\":\"\"},\"colorscale\":[[0.0,\"#0d0887\"],[0.1111111111111111,\"#46039f\"],[0.2222222222222222,\"#7201a8\"],[0.3333333333333333,\"#9c179e\"],[0.4444444444444444,\"#bd3786\"],[0.5555555555555556,\"#d8576b\"],[0.6666666666666666,\"#ed7953\"],[0.7777777777777778,\"#fb9f3a\"],[0.8888888888888888,\"#fdca26\"],[1.0,\"#f0f921\"]]}],\"contourcarpet\":[{\"type\":\"contourcarpet\",\"colorbar\":{\"outlinewidth\":0,\"ticks\":\"\"}}],\"contour\":[{\"type\":\"contour\",\"colorbar\":{\"outlinewidth\":0,\"ticks\":\"\"},\"colorscale\":[[0.0,\"#0d0887\"],[0.1111111111111111,\"#46039f\"],[0.2222222222222222,\"#7201a8\"],[0.3333333333333333,\"#9c179e\"],[0.4444444444444444,\"#bd3786\"],[0.5555555555555556,\"#d8576b\"],[0.6666666666666666,\"#ed7953\"],[0.7777777777777778,\"#fb9f3a\"],[0.8888888888888888,\"#fdca26\"],[1.0,\"#f0f921\"]]}],\"surface\":[{\"type\":\"surface\",\"colorbar\":{\"outlinewidth\":0,\"ticks\":\"\"},\"colorscale\":[[0.0,\"#0d0887\"],[0.1111111111111111,\"#46039f\"],[0.2222222222222222,\"#7201a8\"],[0.3333333333333333,\"#9c179e\"],[0.4444444444444444,\"#bd3786\"],[0.5555555555555556,\"#d8576b\"],[0.6666666666666666,\"#ed7953\"],[0.7777777777777778,\"#fb9f3a\"],[0.8888888888888888,\"#fdca26\"],[1.0,\"#f0f921\"]]}],\"mesh3d\":[{\"type\":\"mesh3d\",\"colorbar\":{\"outlinewidth\":0,\"ticks\":\"\"}}],\"scatter\":[{\"fillpattern\":{\"fillmode\":\"overlay\",\"size\":10,\"solidity\":0.2},\"type\":\"scatter\"}],\"parcoords\":[{\"type\":\"parcoords\",\"line\":{\"colorbar\":{\"outlinewidth\":0,\"ticks\":\"\"}}}],\"scatterpolargl\":[{\"type\":\"scatterpolargl\",\"marker\":{\"colorbar\":{\"outlinewidth\":0,\"ticks\":\"\"}}}],\"bar\":[{\"error_x\":{\"color\":\"#2a3f5f\"},\"error_y\":{\"color\":\"#2a3f5f\"},\"marker\":{\"line\":{\"color\":\"#E5ECF6\",\"width\":0.5},\"pattern\":{\"fillmode\":\"overlay\",\"size\":10,\"solidity\":0.2}},\"type\":\"bar\"}],\"scattergeo\":[{\"type\":\"scattergeo\",\"marker\":{\"colorbar\":{\"outlinewidth\":0,\"ticks\":\"\"}}}],\"scatterpolar\":[{\"type\":\"scatterpolar\",\"marker\":{\"colorbar\":{\"outlinewidth\":0,\"ticks\":\"\"}}}],\"histogram\":[{\"marker\":{\"pattern\":{\"fillmode\":\"overlay\",\"size\":10,\"solidity\":0.2}},\"type\":\"histogram\"}],\"scattergl\":[{\"type\":\"scattergl\",\"marker\":{\"colorbar\":{\"outlinewidth\":0,\"ticks\":\"\"}}}],\"scatter3d\":[{\"type\":\"scatter3d\",\"line\":{\"colorbar\":{\"outlinewidth\":0,\"ticks\":\"\"}},\"marker\":{\"colorbar\":{\"outlinewidth\":0,\"ticks\":\"\"}}}],\"scattermapbox\":[{\"type\":\"scattermapbox\",\"marker\":{\"colorbar\":{\"outlinewidth\":0,\"ticks\":\"\"}}}],\"scatterternary\":[{\"type\":\"scatterternary\",\"marker\":{\"colorbar\":{\"outlinewidth\":0,\"ticks\":\"\"}}}],\"scattercarpet\":[{\"type\":\"scattercarpet\",\"marker\":{\"colorbar\":{\"outlinewidth\":0,\"ticks\":\"\"}}}],\"carpet\":[{\"aaxis\":{\"endlinecolor\":\"#2a3f5f\",\"gridcolor\":\"white\",\"linecolor\":\"white\",\"minorgridcolor\":\"white\",\"startlinecolor\":\"#2a3f5f\"},\"baxis\":{\"endlinecolor\":\"#2a3f5f\",\"gridcolor\":\"white\",\"linecolor\":\"white\",\"minorgridcolor\":\"white\",\"startlinecolor\":\"#2a3f5f\"},\"type\":\"carpet\"}],\"table\":[{\"cells\":{\"fill\":{\"color\":\"#EBF0F8\"},\"line\":{\"color\":\"white\"}},\"header\":{\"fill\":{\"color\":\"#C8D4E3\"},\"line\":{\"color\":\"white\"}},\"type\":\"table\"}],\"barpolar\":[{\"marker\":{\"line\":{\"color\":\"#E5ECF6\",\"width\":0.5},\"pattern\":{\"fillmode\":\"overlay\",\"size\":10,\"solidity\":0.2}},\"type\":\"barpolar\"}],\"pie\":[{\"automargin\":true,\"type\":\"pie\"}]},\"layout\":{\"autotypenumbers\":\"strict\",\"colorway\":[\"#636efa\",\"#EF553B\",\"#00cc96\",\"#ab63fa\",\"#FFA15A\",\"#19d3f3\",\"#FF6692\",\"#B6E880\",\"#FF97FF\",\"#FECB52\"],\"font\":{\"color\":\"#2a3f5f\"},\"hovermode\":\"closest\",\"hoverlabel\":{\"align\":\"left\"},\"paper_bgcolor\":\"white\",\"plot_bgcolor\":\"#E5ECF6\",\"polar\":{\"bgcolor\":\"#E5ECF6\",\"angularaxis\":{\"gridcolor\":\"white\",\"linecolor\":\"white\",\"ticks\":\"\"},\"radialaxis\":{\"gridcolor\":\"white\",\"linecolor\":\"white\",\"ticks\":\"\"}},\"ternary\":{\"bgcolor\":\"#E5ECF6\",\"aaxis\":{\"gridcolor\":\"white\",\"linecolor\":\"white\",\"ticks\":\"\"},\"baxis\":{\"gridcolor\":\"white\",\"linecolor\":\"white\",\"ticks\":\"\"},\"caxis\":{\"gridcolor\":\"white\",\"linecolor\":\"white\",\"ticks\":\"\"}},\"coloraxis\":{\"colorbar\":{\"outlinewidth\":0,\"ticks\":\"\"}},\"colorscale\":{\"sequential\":[[0.0,\"#0d0887\"],[0.1111111111111111,\"#46039f\"],[0.2222222222222222,\"#7201a8\"],[0.3333333333333333,\"#9c179e\"],[0.4444444444444444,\"#bd3786\"],[0.5555555555555556,\"#d8576b\"],[0.6666666666666666,\"#ed7953\"],[0.7777777777777778,\"#fb9f3a\"],[0.8888888888888888,\"#fdca26\"],[1.0,\"#f0f921\"]],\"sequentialminus\":[[0.0,\"#0d0887\"],[0.1111111111111111,\"#46039f\"],[0.2222222222222222,\"#7201a8\"],[0.3333333333333333,\"#9c179e\"],[0.4444444444444444,\"#bd3786\"],[0.5555555555555556,\"#d8576b\"],[0.6666666666666666,\"#ed7953\"],[0.7777777777777778,\"#fb9f3a\"],[0.8888888888888888,\"#fdca26\"],[1.0,\"#f0f921\"]],\"diverging\":[[0,\"#8e0152\"],[0.1,\"#c51b7d\"],[0.2,\"#de77ae\"],[0.3,\"#f1b6da\"],[0.4,\"#fde0ef\"],[0.5,\"#f7f7f7\"],[0.6,\"#e6f5d0\"],[0.7,\"#b8e186\"],[0.8,\"#7fbc41\"],[0.9,\"#4d9221\"],[1,\"#276419\"]]},\"xaxis\":{\"gridcolor\":\"white\",\"linecolor\":\"white\",\"ticks\":\"\",\"title\":{\"standoff\":15},\"zerolinecolor\":\"white\",\"automargin\":true,\"zerolinewidth\":2},\"yaxis\":{\"gridcolor\":\"white\",\"linecolor\":\"white\",\"ticks\":\"\",\"title\":{\"standoff\":15},\"zerolinecolor\":\"white\",\"automargin\":true,\"zerolinewidth\":2},\"scene\":{\"xaxis\":{\"backgroundcolor\":\"#E5ECF6\",\"gridcolor\":\"white\",\"linecolor\":\"white\",\"showbackground\":true,\"ticks\":\"\",\"zerolinecolor\":\"white\",\"gridwidth\":2},\"yaxis\":{\"backgroundcolor\":\"#E5ECF6\",\"gridcolor\":\"white\",\"linecolor\":\"white\",\"showbackground\":true,\"ticks\":\"\",\"zerolinecolor\":\"white\",\"gridwidth\":2},\"zaxis\":{\"backgroundcolor\":\"#E5ECF6\",\"gridcolor\":\"white\",\"linecolor\":\"white\",\"showbackground\":true,\"ticks\":\"\",\"zerolinecolor\":\"white\",\"gridwidth\":2}},\"shapedefaults\":{\"line\":{\"color\":\"#2a3f5f\"}},\"annotationdefaults\":{\"arrowcolor\":\"#2a3f5f\",\"arrowhead\":0,\"arrowwidth\":1},\"geo\":{\"bgcolor\":\"white\",\"landcolor\":\"#E5ECF6\",\"subunitcolor\":\"white\",\"showland\":true,\"showlakes\":true,\"lakecolor\":\"white\"},\"title\":{\"x\":0.05},\"mapbox\":{\"style\":\"light\"}}},\"mapbox\":{\"domain\":{\"x\":[0.0,1.0],\"y\":[0.0,1.0]},\"center\":{\"lat\":null,\"lon\":null},\"accesstoken\":\"pk.eyJ1IjoibWFuZ29tYWRoYXZhIiwiYSI6ImNrdWcyNHh2OTIwMmQzMW56eWFibjUwY3QifQ.aQydTOk0ne3KrV87Ib_TrQ\",\"zoom\":10},\"legend\":{\"tracegroupgap\":0},\"margin\":{\"t\":60}},                        {\"responsive\": true}                    ).then(function(){\n",
       "                            \n",
       "var gd = document.getElementById('7b9a5df2-7b00-4ef9-9f39-d2d07ee81714');\n",
       "var x = new MutationObserver(function (mutations, observer) {{\n",
       "        var display = window.getComputedStyle(gd).display;\n",
       "        if (!display || display === 'none') {{\n",
       "            console.log([gd, 'removed!']);\n",
       "            Plotly.purge(gd);\n",
       "            observer.disconnect();\n",
       "        }}\n",
       "}});\n",
       "\n",
       "// Listen for the removal of the full notebook cells\n",
       "var notebookContainer = gd.closest('#notebook-container');\n",
       "if (notebookContainer) {{\n",
       "    x.observe(notebookContainer, {childList: true});\n",
       "}}\n",
       "\n",
       "// Listen for the clearing of the current output cell\n",
       "var outputEl = gd.closest('.output');\n",
       "if (outputEl) {{\n",
       "    x.observe(outputEl, {childList: true});\n",
       "}}\n",
       "\n",
       "                        })                };                });            </script>        </div>"
      ]
     },
     "metadata": {},
     "output_type": "display_data"
    }
   ],
   "source": [
    "##### Choose admin zone level #####\n",
    "admin_zone_level = 'admin1'\n",
    "\n",
    "##### Choose name of the admin zone #####\n",
    "zone_name = 'Defiance County'\n",
    "\n",
    "\n",
    "px.set_mapbox_access_token('pk.eyJ1IjoibWFuZ29tYWRoYXZhIiwiYSI6ImNrdWcyNHh2OTIwMmQzMW56eWFibjUwY3QifQ.aQydTOk0ne3KrV87Ib_TrQ')\n",
    "fig = px.scatter_mapbox(db[db[admin_zone_level] == zone_name], lat='latitude', lon='longitude', size_max=15, zoom=10)\n",
    "fig.show()"
   ]
  },
  {
   "cell_type": "markdown",
   "metadata": {},
   "source": [
    "#### Remove any images that are too close together"
   ]
  },
  {
   "cell_type": "code",
   "execution_count": 14,
   "metadata": {},
   "outputs": [],
   "source": [
    "\n",
    "# ensures that coordinate 1 (c1) is seperated from all the points in points by at least THRESHOLD\n",
    "def is_far(c1, points):\n",
    "    for point in points:\n",
    "        c2 = (point['latitude'], point['longitude'])\n",
    "        dist = distance.distance(c1, c2).m\n",
    "        if dist < MIN_SEPERATION: \n",
    "            return False \n",
    "        \n",
    "    return True \n",
    "\n",
    "\n",
    "# samples points based on country and ensures that they are seperated by at least THRESHOLD \n",
    "def sample_geographically_distributed_points(country, admin2, num_points):\n",
    "    # add 5 images for each entry \n",
    "    num_points = num_points + 5\n",
    "\n",
    "    if country == 'KE': \n",
    "        total_points = len(db[db['admin1'] == admin2])\n",
    "        points = [db[db['admin1'] == admin2].sample(1).iloc[0].to_dict()]\n",
    "\n",
    "    else: \n",
    "        total_points = len(db[db['admin2'] == admin2])\n",
    "        points = [db[db['admin2'] == admin2].sample(1).iloc[0].to_dict()]\n",
    "    points_left = num_points - 1\n",
    "\n",
    "    print(total_points)\n",
    "    num_times_resampled = 0\n",
    "    with tqdm(total=num_points) as progress_bar:\n",
    "        progress_bar.update(1)\n",
    "        while points_left != 0: \n",
    "            if country == 'KE':\n",
    "                random_sample = db[db['admin1'] == admin2].sample(1).iloc[0].to_dict()\n",
    "            else: \n",
    "                random_sample = db[db['admin2'] == admin2].sample(1).iloc[0].to_dict()\n",
    "            c1 = (random_sample['latitude'], random_sample['longitude'])\n",
    "            if is_far(c1, points):\n",
    "                points.append(random_sample)\n",
    "                points_left = points_left - 1\n",
    "                progress_bar.update(1)\n",
    "                num_times_resampled = 0\n",
    "            else: \n",
    "                num_times_resampled += 1\n",
    "                if num_times_resampled % 50 == 0: \n",
    "                    print(f\"Resampled {num_times_resampled} times.\")\n",
    "                if num_times_resampled >= total_points / 4: \n",
    "                    print(f\"COULD NOT FIND ENOUGH POINTS FOR {admin2}\")\n",
    "                    break \n",
    "\n",
    "    return pd.DataFrame(points)"
   ]
  },
  {
   "cell_type": "code",
   "execution_count": 38,
   "metadata": {},
   "outputs": [],
   "source": [
    "area_info[\"num_images_to_sample\"] = area_info[\"num_images_to_sample\"].astype(int)"
   ]
  },
  {
   "cell_type": "code",
   "execution_count": 39,
   "metadata": {},
   "outputs": [
    {
     "data": {
      "text/html": [
       "<div>\n",
       "<style scoped>\n",
       "    .dataframe tbody tr th:only-of-type {\n",
       "        vertical-align: middle;\n",
       "    }\n",
       "\n",
       "    .dataframe tbody tr th {\n",
       "        vertical-align: top;\n",
       "    }\n",
       "\n",
       "    .dataframe thead th {\n",
       "        text-align: right;\n",
       "    }\n",
       "</style>\n",
       "<table border=\"1\" class=\"dataframe\">\n",
       "  <thead>\n",
       "    <tr style=\"text-align: right;\">\n",
       "      <th></th>\n",
       "      <th>cc</th>\n",
       "      <th>area</th>\n",
       "      <th>total_images</th>\n",
       "      <th>admin_info</th>\n",
       "      <th>num_images_to_sample</th>\n",
       "    </tr>\n",
       "  </thead>\n",
       "  <tbody>\n",
       "    <tr>\n",
       "      <th>0</th>\n",
       "      <td>KE</td>\n",
       "      <td>53.713220</td>\n",
       "      <td>1640</td>\n",
       "      <td>{'admin1': 'Bomet', 0: 1640}</td>\n",
       "      <td>1</td>\n",
       "    </tr>\n",
       "    <tr>\n",
       "      <th>1</th>\n",
       "      <td>KE</td>\n",
       "      <td>1997.707091</td>\n",
       "      <td>6728</td>\n",
       "      <td>{'admin1': 'Bungoma', 0: 6728}</td>\n",
       "      <td>14</td>\n",
       "    </tr>\n",
       "    <tr>\n",
       "      <th>2</th>\n",
       "      <td>KE</td>\n",
       "      <td>2869.056811</td>\n",
       "      <td>6800</td>\n",
       "      <td>{'admin1': 'Busia', 0: 6800}</td>\n",
       "      <td>20</td>\n",
       "    </tr>\n",
       "    <tr>\n",
       "      <th>3</th>\n",
       "      <td>KE</td>\n",
       "      <td>1924.726918</td>\n",
       "      <td>5059</td>\n",
       "      <td>{'admin1': 'Homa Bay', 0: 5059}</td>\n",
       "      <td>13</td>\n",
       "    </tr>\n",
       "    <tr>\n",
       "      <th>4</th>\n",
       "      <td>KE</td>\n",
       "      <td>1871.408454</td>\n",
       "      <td>3282</td>\n",
       "      <td>{'admin1': 'Kakamega', 0: 3282}</td>\n",
       "      <td>13</td>\n",
       "    </tr>\n",
       "    <tr>\n",
       "      <th>5</th>\n",
       "      <td>KE</td>\n",
       "      <td>4791.489016</td>\n",
       "      <td>7133</td>\n",
       "      <td>{'admin1': 'Kericho', 0: 7133}</td>\n",
       "      <td>33</td>\n",
       "    </tr>\n",
       "    <tr>\n",
       "      <th>6</th>\n",
       "      <td>KE</td>\n",
       "      <td>989.112103</td>\n",
       "      <td>8661</td>\n",
       "      <td>{'admin1': 'Kisii', 0: 8661}</td>\n",
       "      <td>7</td>\n",
       "    </tr>\n",
       "    <tr>\n",
       "      <th>7</th>\n",
       "      <td>KE</td>\n",
       "      <td>2860.798534</td>\n",
       "      <td>4537</td>\n",
       "      <td>{'admin1': 'Kisumu', 0: 4537}</td>\n",
       "      <td>20</td>\n",
       "    </tr>\n",
       "    <tr>\n",
       "      <th>8</th>\n",
       "      <td>KE</td>\n",
       "      <td>53.555174</td>\n",
       "      <td>537</td>\n",
       "      <td>{'admin1': 'Laikipia', 0: 537}</td>\n",
       "      <td>1</td>\n",
       "    </tr>\n",
       "    <tr>\n",
       "      <th>9</th>\n",
       "      <td>KE</td>\n",
       "      <td>0.290753</td>\n",
       "      <td>109</td>\n",
       "      <td>{'admin1': 'Marakwet District', 0: 109}</td>\n",
       "      <td>1</td>\n",
       "    </tr>\n",
       "    <tr>\n",
       "      <th>10</th>\n",
       "      <td>KE</td>\n",
       "      <td>296.399559</td>\n",
       "      <td>2263</td>\n",
       "      <td>{'admin1': 'Migori', 0: 2263}</td>\n",
       "      <td>2</td>\n",
       "    </tr>\n",
       "    <tr>\n",
       "      <th>11</th>\n",
       "      <td>KE</td>\n",
       "      <td>6321.414860</td>\n",
       "      <td>8916</td>\n",
       "      <td>{'admin1': 'Nakuru', 0: 8916}</td>\n",
       "      <td>43</td>\n",
       "    </tr>\n",
       "    <tr>\n",
       "      <th>12</th>\n",
       "      <td>KE</td>\n",
       "      <td>1820.670416</td>\n",
       "      <td>6035</td>\n",
       "      <td>{'admin1': 'Nandi', 0: 6035}</td>\n",
       "      <td>13</td>\n",
       "    </tr>\n",
       "    <tr>\n",
       "      <th>13</th>\n",
       "      <td>KE</td>\n",
       "      <td>2149.287755</td>\n",
       "      <td>5668</td>\n",
       "      <td>{'admin1': 'Narok', 0: 5668}</td>\n",
       "      <td>15</td>\n",
       "    </tr>\n",
       "    <tr>\n",
       "      <th>14</th>\n",
       "      <td>KE</td>\n",
       "      <td>579.078810</td>\n",
       "      <td>1770</td>\n",
       "      <td>{'admin1': 'Nyamira District', 0: 1770}</td>\n",
       "      <td>4</td>\n",
       "    </tr>\n",
       "    <tr>\n",
       "      <th>15</th>\n",
       "      <td>KE</td>\n",
       "      <td>0.608881</td>\n",
       "      <td>351</td>\n",
       "      <td>{'admin1': 'Nyandarua', 0: 351}</td>\n",
       "      <td>1</td>\n",
       "    </tr>\n",
       "    <tr>\n",
       "      <th>16</th>\n",
       "      <td>KE</td>\n",
       "      <td>4063.950232</td>\n",
       "      <td>12974</td>\n",
       "      <td>{'admin1': 'Siaya', 0: 12974}</td>\n",
       "      <td>28</td>\n",
       "    </tr>\n",
       "    <tr>\n",
       "      <th>17</th>\n",
       "      <td>KE</td>\n",
       "      <td>1810.767312</td>\n",
       "      <td>13652</td>\n",
       "      <td>{'admin1': 'Trans Nzoia', 0: 13652}</td>\n",
       "      <td>13</td>\n",
       "    </tr>\n",
       "    <tr>\n",
       "      <th>18</th>\n",
       "      <td>KE</td>\n",
       "      <td>1668.357924</td>\n",
       "      <td>2916</td>\n",
       "      <td>{'admin1': 'Uasin Gishu', 0: 2916}</td>\n",
       "      <td>12</td>\n",
       "    </tr>\n",
       "    <tr>\n",
       "      <th>19</th>\n",
       "      <td>KE</td>\n",
       "      <td>915.766953</td>\n",
       "      <td>5683</td>\n",
       "      <td>{'admin1': 'West Pokot', 0: 5683}</td>\n",
       "      <td>7</td>\n",
       "    </tr>\n",
       "    <tr>\n",
       "      <th>20</th>\n",
       "      <td>UG</td>\n",
       "      <td>16534.781397</td>\n",
       "      <td>809190</td>\n",
       "      <td>{'admin1': 'Central Region', 0: 809190}</td>\n",
       "      <td>112</td>\n",
       "    </tr>\n",
       "    <tr>\n",
       "      <th>21</th>\n",
       "      <td>UG</td>\n",
       "      <td>16914.645783</td>\n",
       "      <td>145919</td>\n",
       "      <td>{'admin1': 'Eastern Region', 0: 145919}</td>\n",
       "      <td>114</td>\n",
       "    </tr>\n",
       "    <tr>\n",
       "      <th>22</th>\n",
       "      <td>UG</td>\n",
       "      <td>2723.549638</td>\n",
       "      <td>76513</td>\n",
       "      <td>{'admin1': 'Northern Region', 0: 76513}</td>\n",
       "      <td>19</td>\n",
       "    </tr>\n",
       "    <tr>\n",
       "      <th>23</th>\n",
       "      <td>UG</td>\n",
       "      <td>69928.897877</td>\n",
       "      <td>248010</td>\n",
       "      <td>{'admin1': 'Western Region', 0: 248010}</td>\n",
       "      <td>472</td>\n",
       "    </tr>\n",
       "    <tr>\n",
       "      <th>24</th>\n",
       "      <td>US</td>\n",
       "      <td>584.623392</td>\n",
       "      <td>3835</td>\n",
       "      <td>{'admin1': 'Illinois', 'admin2': 'Ford County', 0: 3835}</td>\n",
       "      <td>4</td>\n",
       "    </tr>\n",
       "    <tr>\n",
       "      <th>25</th>\n",
       "      <td>US</td>\n",
       "      <td>160.563656</td>\n",
       "      <td>4181</td>\n",
       "      <td>{'admin1': 'Illinois', 'admin2': 'Fulton County', 0: 4181}</td>\n",
       "      <td>2</td>\n",
       "    </tr>\n",
       "    <tr>\n",
       "      <th>26</th>\n",
       "      <td>US</td>\n",
       "      <td>16.519051</td>\n",
       "      <td>1981</td>\n",
       "      <td>{'admin1': 'Illinois', 'admin2': 'Henry County', 0: 1981}</td>\n",
       "      <td>1</td>\n",
       "    </tr>\n",
       "    <tr>\n",
       "      <th>27</th>\n",
       "      <td>US</td>\n",
       "      <td>964.288813</td>\n",
       "      <td>5355</td>\n",
       "      <td>{'admin1': 'Illinois', 'admin2': 'Iroquois County', 0: 5355}</td>\n",
       "      <td>7</td>\n",
       "    </tr>\n",
       "    <tr>\n",
       "      <th>28</th>\n",
       "      <td>US</td>\n",
       "      <td>607.184900</td>\n",
       "      <td>3516</td>\n",
       "      <td>{'admin1': 'Illinois', 'admin2': 'Knox County', 0: 3516}</td>\n",
       "      <td>5</td>\n",
       "    </tr>\n",
       "    <tr>\n",
       "      <th>29</th>\n",
       "      <td>US</td>\n",
       "      <td>86.344623</td>\n",
       "      <td>2923</td>\n",
       "      <td>{'admin1': 'Illinois', 'admin2': 'Mason County', 0: 2923}</td>\n",
       "      <td>1</td>\n",
       "    </tr>\n",
       "    <tr>\n",
       "      <th>30</th>\n",
       "      <td>US</td>\n",
       "      <td>390.258651</td>\n",
       "      <td>3425</td>\n",
       "      <td>{'admin1': 'Illinois', 'admin2': 'McLean County', 0: 3425}</td>\n",
       "      <td>3</td>\n",
       "    </tr>\n",
       "    <tr>\n",
       "      <th>31</th>\n",
       "      <td>US</td>\n",
       "      <td>504.087393</td>\n",
       "      <td>4366</td>\n",
       "      <td>{'admin1': 'Illinois', 'admin2': 'Tazewell County', 0: 4366}</td>\n",
       "      <td>4</td>\n",
       "    </tr>\n",
       "    <tr>\n",
       "      <th>32</th>\n",
       "      <td>US</td>\n",
       "      <td>0.080568</td>\n",
       "      <td>374</td>\n",
       "      <td>{'admin1': 'Indiana', 'admin2': 'Adams County', 0: 374}</td>\n",
       "      <td>1</td>\n",
       "    </tr>\n",
       "    <tr>\n",
       "      <th>33</th>\n",
       "      <td>US</td>\n",
       "      <td>131.480819</td>\n",
       "      <td>4518</td>\n",
       "      <td>{'admin1': 'Indiana', 'admin2': 'Allen County', 0: 4518}</td>\n",
       "      <td>1</td>\n",
       "    </tr>\n",
       "    <tr>\n",
       "      <th>34</th>\n",
       "      <td>US</td>\n",
       "      <td>44.925051</td>\n",
       "      <td>2883</td>\n",
       "      <td>{'admin1': 'Indiana', 'admin2': 'Blackford County', 0: 2883}</td>\n",
       "      <td>1</td>\n",
       "    </tr>\n",
       "    <tr>\n",
       "      <th>35</th>\n",
       "      <td>US</td>\n",
       "      <td>127.842395</td>\n",
       "      <td>3248</td>\n",
       "      <td>{'admin1': 'Indiana', 'admin2': 'Cass County', 0: 3248}</td>\n",
       "      <td>1</td>\n",
       "    </tr>\n",
       "    <tr>\n",
       "      <th>36</th>\n",
       "      <td>US</td>\n",
       "      <td>355.262365</td>\n",
       "      <td>3481</td>\n",
       "      <td>{'admin1': 'Indiana', 'admin2': 'Delaware County', 0: 3481}</td>\n",
       "      <td>3</td>\n",
       "    </tr>\n",
       "    <tr>\n",
       "      <th>37</th>\n",
       "      <td>US</td>\n",
       "      <td>65.931915</td>\n",
       "      <td>1966</td>\n",
       "      <td>{'admin1': 'Indiana', 'admin2': 'Fulton County', 0: 1966}</td>\n",
       "      <td>1</td>\n",
       "    </tr>\n",
       "    <tr>\n",
       "      <th>38</th>\n",
       "      <td>US</td>\n",
       "      <td>0.352017</td>\n",
       "      <td>428</td>\n",
       "      <td>{'admin1': 'Indiana', 'admin2': 'Grant County', 0: 428}</td>\n",
       "      <td>1</td>\n",
       "    </tr>\n",
       "    <tr>\n",
       "      <th>39</th>\n",
       "      <td>US</td>\n",
       "      <td>25.326515</td>\n",
       "      <td>1580</td>\n",
       "      <td>{'admin1': 'Indiana', 'admin2': 'Huntington County', 0: 1580}</td>\n",
       "      <td>1</td>\n",
       "    </tr>\n",
       "    <tr>\n",
       "      <th>40</th>\n",
       "      <td>US</td>\n",
       "      <td>0.357540</td>\n",
       "      <td>915</td>\n",
       "      <td>{'admin1': 'Indiana', 'admin2': 'Jasper County', 0: 915}</td>\n",
       "      <td>1</td>\n",
       "    </tr>\n",
       "    <tr>\n",
       "      <th>41</th>\n",
       "      <td>US</td>\n",
       "      <td>64.953504</td>\n",
       "      <td>870</td>\n",
       "      <td>{'admin1': 'Indiana', 'admin2': 'Madison County', 0: 870}</td>\n",
       "      <td>1</td>\n",
       "    </tr>\n",
       "    <tr>\n",
       "      <th>42</th>\n",
       "      <td>US</td>\n",
       "      <td>9.166708</td>\n",
       "      <td>1521</td>\n",
       "      <td>{'admin1': 'Indiana', 'admin2': 'Miami County', 0: 1521}</td>\n",
       "      <td>1</td>\n",
       "    </tr>\n",
       "    <tr>\n",
       "      <th>43</th>\n",
       "      <td>US</td>\n",
       "      <td>11.217110</td>\n",
       "      <td>2259</td>\n",
       "      <td>{'admin1': 'Indiana', 'admin2': 'Newton County', 0: 2259}</td>\n",
       "      <td>1</td>\n",
       "    </tr>\n",
       "    <tr>\n",
       "      <th>44</th>\n",
       "      <td>US</td>\n",
       "      <td>296.155104</td>\n",
       "      <td>5328</td>\n",
       "      <td>{'admin1': 'Indiana', 'admin2': 'Wabash County', 0: 5328}</td>\n",
       "      <td>2</td>\n",
       "    </tr>\n",
       "    <tr>\n",
       "      <th>45</th>\n",
       "      <td>US</td>\n",
       "      <td>89.488777</td>\n",
       "      <td>3962</td>\n",
       "      <td>{'admin1': 'Indiana', 'admin2': 'White County', 0: 3962}</td>\n",
       "      <td>1</td>\n",
       "    </tr>\n",
       "    <tr>\n",
       "      <th>46</th>\n",
       "      <td>US</td>\n",
       "      <td>0.761321</td>\n",
       "      <td>789</td>\n",
       "      <td>{'admin1': 'Iowa', 'admin2': 'Butler County', 0: 789}</td>\n",
       "      <td>1</td>\n",
       "    </tr>\n",
       "    <tr>\n",
       "      <th>47</th>\n",
       "      <td>US</td>\n",
       "      <td>0.308714</td>\n",
       "      <td>813</td>\n",
       "      <td>{'admin1': 'Iowa', 'admin2': 'Floyd County', 0: 813}</td>\n",
       "      <td>1</td>\n",
       "    </tr>\n",
       "    <tr>\n",
       "      <th>48</th>\n",
       "      <td>US</td>\n",
       "      <td>167.803863</td>\n",
       "      <td>5248</td>\n",
       "      <td>{'admin1': 'Iowa', 'admin2': 'Mitchell County', 0: 5248}</td>\n",
       "      <td>2</td>\n",
       "    </tr>\n",
       "    <tr>\n",
       "      <th>49</th>\n",
       "      <td>US</td>\n",
       "      <td>7.765108</td>\n",
       "      <td>1321</td>\n",
       "      <td>{'admin1': 'Minnesota', 'admin2': 'Dodge County', 0: 1321}</td>\n",
       "      <td>1</td>\n",
       "    </tr>\n",
       "    <tr>\n",
       "      <th>50</th>\n",
       "      <td>US</td>\n",
       "      <td>197.499027</td>\n",
       "      <td>2641</td>\n",
       "      <td>{'admin1': 'Minnesota', 'admin2': 'Mower County', 0: 2641}</td>\n",
       "      <td>2</td>\n",
       "    </tr>\n",
       "    <tr>\n",
       "      <th>51</th>\n",
       "      <td>US</td>\n",
       "      <td>13.853562</td>\n",
       "      <td>1802</td>\n",
       "      <td>{'admin1': 'Ohio', 'admin2': 'Defiance County', 0: 1802}</td>\n",
       "      <td>1</td>\n",
       "    </tr>\n",
       "    <tr>\n",
       "      <th>52</th>\n",
       "      <td>US</td>\n",
       "      <td>373.395364</td>\n",
       "      <td>14348</td>\n",
       "      <td>{'admin1': 'Ohio', 'admin2': 'Paulding County', 0: 14348}</td>\n",
       "      <td>3</td>\n",
       "    </tr>\n",
       "  </tbody>\n",
       "</table>\n",
       "</div>"
      ],
      "text/plain": [
       "    cc          area  total_images  \\\n",
       "0   KE     53.713220          1640   \n",
       "1   KE   1997.707091          6728   \n",
       "2   KE   2869.056811          6800   \n",
       "3   KE   1924.726918          5059   \n",
       "4   KE   1871.408454          3282   \n",
       "5   KE   4791.489016          7133   \n",
       "6   KE    989.112103          8661   \n",
       "7   KE   2860.798534          4537   \n",
       "8   KE     53.555174           537   \n",
       "9   KE      0.290753           109   \n",
       "10  KE    296.399559          2263   \n",
       "11  KE   6321.414860          8916   \n",
       "12  KE   1820.670416          6035   \n",
       "13  KE   2149.287755          5668   \n",
       "14  KE    579.078810          1770   \n",
       "15  KE      0.608881           351   \n",
       "16  KE   4063.950232         12974   \n",
       "17  KE   1810.767312         13652   \n",
       "18  KE   1668.357924          2916   \n",
       "19  KE    915.766953          5683   \n",
       "20  UG  16534.781397        809190   \n",
       "21  UG  16914.645783        145919   \n",
       "22  UG   2723.549638         76513   \n",
       "23  UG  69928.897877        248010   \n",
       "24  US    584.623392          3835   \n",
       "25  US    160.563656          4181   \n",
       "26  US     16.519051          1981   \n",
       "27  US    964.288813          5355   \n",
       "28  US    607.184900          3516   \n",
       "29  US     86.344623          2923   \n",
       "30  US    390.258651          3425   \n",
       "31  US    504.087393          4366   \n",
       "32  US      0.080568           374   \n",
       "33  US    131.480819          4518   \n",
       "34  US     44.925051          2883   \n",
       "35  US    127.842395          3248   \n",
       "36  US    355.262365          3481   \n",
       "37  US     65.931915          1966   \n",
       "38  US      0.352017           428   \n",
       "39  US     25.326515          1580   \n",
       "40  US      0.357540           915   \n",
       "41  US     64.953504           870   \n",
       "42  US      9.166708          1521   \n",
       "43  US     11.217110          2259   \n",
       "44  US    296.155104          5328   \n",
       "45  US     89.488777          3962   \n",
       "46  US      0.761321           789   \n",
       "47  US      0.308714           813   \n",
       "48  US    167.803863          5248   \n",
       "49  US      7.765108          1321   \n",
       "50  US    197.499027          2641   \n",
       "51  US     13.853562          1802   \n",
       "52  US    373.395364         14348   \n",
       "\n",
       "                                                       admin_info  \\\n",
       "0                                    {'admin1': 'Bomet', 0: 1640}   \n",
       "1                                  {'admin1': 'Bungoma', 0: 6728}   \n",
       "2                                    {'admin1': 'Busia', 0: 6800}   \n",
       "3                                 {'admin1': 'Homa Bay', 0: 5059}   \n",
       "4                                 {'admin1': 'Kakamega', 0: 3282}   \n",
       "5                                  {'admin1': 'Kericho', 0: 7133}   \n",
       "6                                    {'admin1': 'Kisii', 0: 8661}   \n",
       "7                                   {'admin1': 'Kisumu', 0: 4537}   \n",
       "8                                  {'admin1': 'Laikipia', 0: 537}   \n",
       "9                         {'admin1': 'Marakwet District', 0: 109}   \n",
       "10                                  {'admin1': 'Migori', 0: 2263}   \n",
       "11                                  {'admin1': 'Nakuru', 0: 8916}   \n",
       "12                                   {'admin1': 'Nandi', 0: 6035}   \n",
       "13                                   {'admin1': 'Narok', 0: 5668}   \n",
       "14                        {'admin1': 'Nyamira District', 0: 1770}   \n",
       "15                                {'admin1': 'Nyandarua', 0: 351}   \n",
       "16                                  {'admin1': 'Siaya', 0: 12974}   \n",
       "17                            {'admin1': 'Trans Nzoia', 0: 13652}   \n",
       "18                             {'admin1': 'Uasin Gishu', 0: 2916}   \n",
       "19                              {'admin1': 'West Pokot', 0: 5683}   \n",
       "20                        {'admin1': 'Central Region', 0: 809190}   \n",
       "21                        {'admin1': 'Eastern Region', 0: 145919}   \n",
       "22                        {'admin1': 'Northern Region', 0: 76513}   \n",
       "23                        {'admin1': 'Western Region', 0: 248010}   \n",
       "24       {'admin1': 'Illinois', 'admin2': 'Ford County', 0: 3835}   \n",
       "25     {'admin1': 'Illinois', 'admin2': 'Fulton County', 0: 4181}   \n",
       "26      {'admin1': 'Illinois', 'admin2': 'Henry County', 0: 1981}   \n",
       "27   {'admin1': 'Illinois', 'admin2': 'Iroquois County', 0: 5355}   \n",
       "28       {'admin1': 'Illinois', 'admin2': 'Knox County', 0: 3516}   \n",
       "29      {'admin1': 'Illinois', 'admin2': 'Mason County', 0: 2923}   \n",
       "30     {'admin1': 'Illinois', 'admin2': 'McLean County', 0: 3425}   \n",
       "31   {'admin1': 'Illinois', 'admin2': 'Tazewell County', 0: 4366}   \n",
       "32        {'admin1': 'Indiana', 'admin2': 'Adams County', 0: 374}   \n",
       "33       {'admin1': 'Indiana', 'admin2': 'Allen County', 0: 4518}   \n",
       "34   {'admin1': 'Indiana', 'admin2': 'Blackford County', 0: 2883}   \n",
       "35        {'admin1': 'Indiana', 'admin2': 'Cass County', 0: 3248}   \n",
       "36    {'admin1': 'Indiana', 'admin2': 'Delaware County', 0: 3481}   \n",
       "37      {'admin1': 'Indiana', 'admin2': 'Fulton County', 0: 1966}   \n",
       "38        {'admin1': 'Indiana', 'admin2': 'Grant County', 0: 428}   \n",
       "39  {'admin1': 'Indiana', 'admin2': 'Huntington County', 0: 1580}   \n",
       "40       {'admin1': 'Indiana', 'admin2': 'Jasper County', 0: 915}   \n",
       "41      {'admin1': 'Indiana', 'admin2': 'Madison County', 0: 870}   \n",
       "42       {'admin1': 'Indiana', 'admin2': 'Miami County', 0: 1521}   \n",
       "43      {'admin1': 'Indiana', 'admin2': 'Newton County', 0: 2259}   \n",
       "44      {'admin1': 'Indiana', 'admin2': 'Wabash County', 0: 5328}   \n",
       "45       {'admin1': 'Indiana', 'admin2': 'White County', 0: 3962}   \n",
       "46          {'admin1': 'Iowa', 'admin2': 'Butler County', 0: 789}   \n",
       "47           {'admin1': 'Iowa', 'admin2': 'Floyd County', 0: 813}   \n",
       "48       {'admin1': 'Iowa', 'admin2': 'Mitchell County', 0: 5248}   \n",
       "49     {'admin1': 'Minnesota', 'admin2': 'Dodge County', 0: 1321}   \n",
       "50     {'admin1': 'Minnesota', 'admin2': 'Mower County', 0: 2641}   \n",
       "51       {'admin1': 'Ohio', 'admin2': 'Defiance County', 0: 1802}   \n",
       "52      {'admin1': 'Ohio', 'admin2': 'Paulding County', 0: 14348}   \n",
       "\n",
       "    num_images_to_sample  \n",
       "0                      1  \n",
       "1                     14  \n",
       "2                     20  \n",
       "3                     13  \n",
       "4                     13  \n",
       "5                     33  \n",
       "6                      7  \n",
       "7                     20  \n",
       "8                      1  \n",
       "9                      1  \n",
       "10                     2  \n",
       "11                    43  \n",
       "12                    13  \n",
       "13                    15  \n",
       "14                     4  \n",
       "15                     1  \n",
       "16                    28  \n",
       "17                    13  \n",
       "18                    12  \n",
       "19                     7  \n",
       "20                   112  \n",
       "21                   114  \n",
       "22                    19  \n",
       "23                   472  \n",
       "24                     4  \n",
       "25                     2  \n",
       "26                     1  \n",
       "27                     7  \n",
       "28                     5  \n",
       "29                     1  \n",
       "30                     3  \n",
       "31                     4  \n",
       "32                     1  \n",
       "33                     1  \n",
       "34                     1  \n",
       "35                     1  \n",
       "36                     3  \n",
       "37                     1  \n",
       "38                     1  \n",
       "39                     1  \n",
       "40                     1  \n",
       "41                     1  \n",
       "42                     1  \n",
       "43                     1  \n",
       "44                     2  \n",
       "45                     1  \n",
       "46                     1  \n",
       "47                     1  \n",
       "48                     2  \n",
       "49                     1  \n",
       "50                     2  \n",
       "51                     1  \n",
       "52                     3  "
      ]
     },
     "execution_count": 39,
     "metadata": {},
     "output_type": "execute_result"
    }
   ],
   "source": [
    "area_info"
   ]
  },
  {
   "cell_type": "code",
   "execution_count": 45,
   "metadata": {},
   "outputs": [
    {
     "name": "stdout",
     "output_type": "stream",
     "text": [
      "cc                                                                            US\n",
      "area                                                                  584.623392\n",
      "total_images                                                                3835\n",
      "admin_info              {'admin1': 'Illinois', 'admin2': 'Ford County', 0: 3835}\n",
      "num_images_to_sample                                                           4\n",
      "Name: 24, dtype: object\n",
      "3835\n"
     ]
    },
    {
     "name": "stderr",
     "output_type": "stream",
     "text": [
      "100%|██████████| 9/9 [00:00<00:00, 13.69it/s]\n"
     ]
    },
    {
     "name": "stdout",
     "output_type": "stream",
     "text": [
      "cc                                                                                US\n",
      "area                                                                      964.288813\n",
      "total_images                                                                    5355\n",
      "admin_info              {'admin1': 'Illinois', 'admin2': 'Iroquois County', 0: 5355}\n",
      "num_images_to_sample                                                               7\n",
      "Name: 27, dtype: object\n",
      "5355\n"
     ]
    },
    {
     "name": "stderr",
     "output_type": "stream",
     "text": [
      "100%|██████████| 12/12 [00:00<00:00, 12.70it/s]\n"
     ]
    },
    {
     "name": "stdout",
     "output_type": "stream",
     "text": [
      "cc                                                                            US\n",
      "area                                                                    607.1849\n",
      "total_images                                                                3516\n",
      "admin_info              {'admin1': 'Illinois', 'admin2': 'Knox County', 0: 3516}\n",
      "num_images_to_sample                                                           5\n",
      "Name: 28, dtype: object\n",
      "3516\n"
     ]
    },
    {
     "name": "stderr",
     "output_type": "stream",
     "text": [
      "100%|██████████| 10/10 [00:00<00:00, 12.29it/s]\n"
     ]
    },
    {
     "name": "stdout",
     "output_type": "stream",
     "text": [
      "cc                                                                              US\n",
      "area                                                                    390.258651\n",
      "total_images                                                                  3425\n",
      "admin_info              {'admin1': 'Illinois', 'admin2': 'McLean County', 0: 3425}\n",
      "num_images_to_sample                                                             3\n",
      "Name: 30, dtype: object\n",
      "3425\n"
     ]
    },
    {
     "name": "stderr",
     "output_type": "stream",
     "text": [
      "100%|██████████| 8/8 [00:00<00:00, 10.96it/s]\n"
     ]
    },
    {
     "name": "stdout",
     "output_type": "stream",
     "text": [
      "cc                                                                                US\n",
      "area                                                                      504.087393\n",
      "total_images                                                                    4366\n",
      "admin_info              {'admin1': 'Illinois', 'admin2': 'Tazewell County', 0: 4366}\n",
      "num_images_to_sample                                                               4\n",
      "Name: 31, dtype: object\n",
      "4366\n"
     ]
    },
    {
     "name": "stderr",
     "output_type": "stream",
     "text": [
      "100%|██████████| 9/9 [00:00<00:00, 13.14it/s]\n"
     ]
    },
    {
     "name": "stdout",
     "output_type": "stream",
     "text": [
      "cc                                                                               US\n",
      "area                                                                     355.262365\n",
      "total_images                                                                   3481\n",
      "admin_info              {'admin1': 'Indiana', 'admin2': 'Delaware County', 0: 3481}\n",
      "num_images_to_sample                                                              3\n",
      "Name: 36, dtype: object\n",
      "3481\n"
     ]
    },
    {
     "name": "stderr",
     "output_type": "stream",
     "text": [
      "100%|██████████| 8/8 [00:00<00:00, 13.32it/s]\n"
     ]
    },
    {
     "name": "stdout",
     "output_type": "stream",
     "text": [
      "cc                                                                             US\n",
      "area                                                                   373.395364\n",
      "total_images                                                                14348\n",
      "admin_info              {'admin1': 'Ohio', 'admin2': 'Paulding County', 0: 14348}\n",
      "num_images_to_sample                                                            3\n",
      "Name: 52, dtype: object\n",
      "14348\n"
     ]
    },
    {
     "name": "stderr",
     "output_type": "stream",
     "text": [
      "100%|██████████| 8/8 [00:01<00:00,  5.80it/s]\n"
     ]
    }
   ],
   "source": [
    "df_list = []\n",
    "for r,entry in area_info.iterrows(): \n",
    "    \n",
    "    if entry['num_images_to_sample'] > 2 and 'admin2' in entry['admin_info']: \n",
    "        print(entry)\n",
    "        admin2_df = sample_geographically_distributed_points(entry['cc'], entry['admin_info']['admin2'], entry['num_images_to_sample'])\n",
    "        df_list.append(admin2_df)\n",
    "\n",
    "# df_list\n"
   ]
  },
  {
   "cell_type": "code",
   "execution_count": 46,
   "metadata": {},
   "outputs": [
    {
     "data": {
      "text/plain": [
       "64"
      ]
     },
     "execution_count": 46,
     "metadata": {},
     "output_type": "execute_result"
    }
   ],
   "source": [
    "test_set_concat = pd.concat(df_list)\n",
    "len(test_set_concat)\n"
   ]
  },
  {
   "cell_type": "code",
   "execution_count": 47,
   "metadata": {},
   "outputs": [
    {
     "data": {
      "application/vnd.plotly.v1+json": {
       "config": {
        "plotlyServerURL": "https://plot.ly"
       },
       "data": [
        {
         "hovertemplate": "latitude=%{lat}<br>longitude=%{lon}<extra></extra>",
         "lat": [
          40.4759224,
          40.6043906,
          40.60403409997223,
          40.60429919997223,
          40.4643366,
          40.4569339,
          40.5906698,
          40.4717545,
          40.604145,
          40.76995279997222,
          40.7401215,
          40.6818388,
          40.6852718,
          40.6830178,
          40.77580559997222,
          40.6112941,
          40.68373989997222,
          40.768860799972224,
          40.717286399972224,
          40.68115629997222,
          40.68050889997222,
          40.844317199972224,
          40.91277819997222,
          40.87712549997222,
          40.802680899972216,
          40.88726359997222,
          40.81483959997222,
          41.1389487,
          40.8603206,
          40.99194109997222,
          40.8444457,
          40.42858079997222,
          40.48619339997222,
          40.486639799972224,
          40.48640379997222,
          40.4854538,
          40.4852799,
          40.4855974,
          40.485944,
          40.305753,
          40.3303407,
          40.392905599972224,
          40.398836899972224,
          40.42794649997222,
          40.3964178,
          40.336865299972224,
          40.3086472,
          40.30624629997222,
          40.27693699997222,
          40.277123299972224,
          40.2766164,
          40.31333819997222,
          40.2769782,
          40.3577334,
          40.3880884,
          40.2189995,
          41.117718199972224,
          41.0915936,
          41.094641899972224,
          41.106503799972224,
          41.077587,
          41.0921085,
          41.09202839997222,
          41.1048522
         ],
         "legendgroup": "",
         "lon": [
          -88.36450139997221,
          -88.10175279997222,
          -88.18003199997223,
          -88.12876099997222,
          -88.4327073,
          -88.37418079999999,
          -88.21550129997223,
          -88.46370319997223,
          -88.166554,
          -87.5087551,
          -87.6843623,
          -87.89447189997223,
          -87.7464989,
          -87.8455577,
          -87.5542221,
          -88.0320695,
          -87.81395019997223,
          -87.6957371,
          -87.6838553,
          -87.9241568,
          -87.94851629997223,
          -90.1718081,
          -90.2469638,
          -90.2287958,
          -90.1694106,
          -90.24117859997224,
          -90.1775987,
          -90.33232139997222,
          -90.2109523,
          -90.3358472,
          -90.1831092,
          -89.1617157,
          -88.66494439997223,
          -88.74478689997223,
          -88.69148909997223,
          -88.59091119997221,
          -88.57584229999999,
          -88.60843879999999,
          -88.6412902,
          -89.5942723,
          -89.3967016,
          -89.31273459997222,
          -89.23660379997223,
          -89.2170239,
          -89.31253629999999,
          -89.3968397,
          -89.4302928,
          -89.56273,
          -85.514802,
          -85.4519712,
          -85.55428309999999,
          -85.38459389997223,
          -85.521229,
          -85.36958289997222,
          -85.36963909999999,
          -85.57551909997221,
          -84.49588119997222,
          -84.62601739997221,
          -84.57348669999999,
          -84.54561209997222,
          -84.7544038,
          -84.72948119997223,
          -84.73455149997223,
          -84.57350369999999
         ],
         "marker": {
          "color": "#636efa"
         },
         "mode": "markers",
         "name": "",
         "showlegend": false,
         "subplot": "mapbox",
         "type": "scattermapbox"
        }
       ],
       "layout": {
        "autosize": true,
        "legend": {
         "tracegroupgap": 0
        },
        "mapbox": {
         "accesstoken": "pk.eyJ1IjoibWFuZ29tYWRoYXZhIiwiYSI6ImNrdWcyNHh2OTIwMmQzMW56eWFibjUwY3QifQ.aQydTOk0ne3KrV87Ib_TrQ",
         "bearing": 0,
         "center": {
          "lat": 2.842170943040401e-14,
          "lon": 104.17592894703421
         },
         "domain": {
          "x": [
           0,
           1
          ],
          "y": [
           0,
           1
          ]
         },
         "pitch": 0,
         "zoom": -1.2186403069333314
        },
        "margin": {
         "t": 60
        },
        "template": {
         "data": {
          "bar": [
           {
            "error_x": {
             "color": "#2a3f5f"
            },
            "error_y": {
             "color": "#2a3f5f"
            },
            "marker": {
             "line": {
              "color": "#E5ECF6",
              "width": 0.5
             },
             "pattern": {
              "fillmode": "overlay",
              "size": 10,
              "solidity": 0.2
             }
            },
            "type": "bar"
           }
          ],
          "barpolar": [
           {
            "marker": {
             "line": {
              "color": "#E5ECF6",
              "width": 0.5
             },
             "pattern": {
              "fillmode": "overlay",
              "size": 10,
              "solidity": 0.2
             }
            },
            "type": "barpolar"
           }
          ],
          "carpet": [
           {
            "aaxis": {
             "endlinecolor": "#2a3f5f",
             "gridcolor": "white",
             "linecolor": "white",
             "minorgridcolor": "white",
             "startlinecolor": "#2a3f5f"
            },
            "baxis": {
             "endlinecolor": "#2a3f5f",
             "gridcolor": "white",
             "linecolor": "white",
             "minorgridcolor": "white",
             "startlinecolor": "#2a3f5f"
            },
            "type": "carpet"
           }
          ],
          "choropleth": [
           {
            "colorbar": {
             "outlinewidth": 0,
             "ticks": ""
            },
            "type": "choropleth"
           }
          ],
          "contour": [
           {
            "colorbar": {
             "outlinewidth": 0,
             "ticks": ""
            },
            "colorscale": [
             [
              0,
              "#0d0887"
             ],
             [
              0.1111111111111111,
              "#46039f"
             ],
             [
              0.2222222222222222,
              "#7201a8"
             ],
             [
              0.3333333333333333,
              "#9c179e"
             ],
             [
              0.4444444444444444,
              "#bd3786"
             ],
             [
              0.5555555555555556,
              "#d8576b"
             ],
             [
              0.6666666666666666,
              "#ed7953"
             ],
             [
              0.7777777777777778,
              "#fb9f3a"
             ],
             [
              0.8888888888888888,
              "#fdca26"
             ],
             [
              1,
              "#f0f921"
             ]
            ],
            "type": "contour"
           }
          ],
          "contourcarpet": [
           {
            "colorbar": {
             "outlinewidth": 0,
             "ticks": ""
            },
            "type": "contourcarpet"
           }
          ],
          "heatmap": [
           {
            "colorbar": {
             "outlinewidth": 0,
             "ticks": ""
            },
            "colorscale": [
             [
              0,
              "#0d0887"
             ],
             [
              0.1111111111111111,
              "#46039f"
             ],
             [
              0.2222222222222222,
              "#7201a8"
             ],
             [
              0.3333333333333333,
              "#9c179e"
             ],
             [
              0.4444444444444444,
              "#bd3786"
             ],
             [
              0.5555555555555556,
              "#d8576b"
             ],
             [
              0.6666666666666666,
              "#ed7953"
             ],
             [
              0.7777777777777778,
              "#fb9f3a"
             ],
             [
              0.8888888888888888,
              "#fdca26"
             ],
             [
              1,
              "#f0f921"
             ]
            ],
            "type": "heatmap"
           }
          ],
          "heatmapgl": [
           {
            "colorbar": {
             "outlinewidth": 0,
             "ticks": ""
            },
            "colorscale": [
             [
              0,
              "#0d0887"
             ],
             [
              0.1111111111111111,
              "#46039f"
             ],
             [
              0.2222222222222222,
              "#7201a8"
             ],
             [
              0.3333333333333333,
              "#9c179e"
             ],
             [
              0.4444444444444444,
              "#bd3786"
             ],
             [
              0.5555555555555556,
              "#d8576b"
             ],
             [
              0.6666666666666666,
              "#ed7953"
             ],
             [
              0.7777777777777778,
              "#fb9f3a"
             ],
             [
              0.8888888888888888,
              "#fdca26"
             ],
             [
              1,
              "#f0f921"
             ]
            ],
            "type": "heatmapgl"
           }
          ],
          "histogram": [
           {
            "marker": {
             "pattern": {
              "fillmode": "overlay",
              "size": 10,
              "solidity": 0.2
             }
            },
            "type": "histogram"
           }
          ],
          "histogram2d": [
           {
            "colorbar": {
             "outlinewidth": 0,
             "ticks": ""
            },
            "colorscale": [
             [
              0,
              "#0d0887"
             ],
             [
              0.1111111111111111,
              "#46039f"
             ],
             [
              0.2222222222222222,
              "#7201a8"
             ],
             [
              0.3333333333333333,
              "#9c179e"
             ],
             [
              0.4444444444444444,
              "#bd3786"
             ],
             [
              0.5555555555555556,
              "#d8576b"
             ],
             [
              0.6666666666666666,
              "#ed7953"
             ],
             [
              0.7777777777777778,
              "#fb9f3a"
             ],
             [
              0.8888888888888888,
              "#fdca26"
             ],
             [
              1,
              "#f0f921"
             ]
            ],
            "type": "histogram2d"
           }
          ],
          "histogram2dcontour": [
           {
            "colorbar": {
             "outlinewidth": 0,
             "ticks": ""
            },
            "colorscale": [
             [
              0,
              "#0d0887"
             ],
             [
              0.1111111111111111,
              "#46039f"
             ],
             [
              0.2222222222222222,
              "#7201a8"
             ],
             [
              0.3333333333333333,
              "#9c179e"
             ],
             [
              0.4444444444444444,
              "#bd3786"
             ],
             [
              0.5555555555555556,
              "#d8576b"
             ],
             [
              0.6666666666666666,
              "#ed7953"
             ],
             [
              0.7777777777777778,
              "#fb9f3a"
             ],
             [
              0.8888888888888888,
              "#fdca26"
             ],
             [
              1,
              "#f0f921"
             ]
            ],
            "type": "histogram2dcontour"
           }
          ],
          "mesh3d": [
           {
            "colorbar": {
             "outlinewidth": 0,
             "ticks": ""
            },
            "type": "mesh3d"
           }
          ],
          "parcoords": [
           {
            "line": {
             "colorbar": {
              "outlinewidth": 0,
              "ticks": ""
             }
            },
            "type": "parcoords"
           }
          ],
          "pie": [
           {
            "automargin": true,
            "type": "pie"
           }
          ],
          "scatter": [
           {
            "fillpattern": {
             "fillmode": "overlay",
             "size": 10,
             "solidity": 0.2
            },
            "type": "scatter"
           }
          ],
          "scatter3d": [
           {
            "line": {
             "colorbar": {
              "outlinewidth": 0,
              "ticks": ""
             }
            },
            "marker": {
             "colorbar": {
              "outlinewidth": 0,
              "ticks": ""
             }
            },
            "type": "scatter3d"
           }
          ],
          "scattercarpet": [
           {
            "marker": {
             "colorbar": {
              "outlinewidth": 0,
              "ticks": ""
             }
            },
            "type": "scattercarpet"
           }
          ],
          "scattergeo": [
           {
            "marker": {
             "colorbar": {
              "outlinewidth": 0,
              "ticks": ""
             }
            },
            "type": "scattergeo"
           }
          ],
          "scattergl": [
           {
            "marker": {
             "colorbar": {
              "outlinewidth": 0,
              "ticks": ""
             }
            },
            "type": "scattergl"
           }
          ],
          "scattermapbox": [
           {
            "marker": {
             "colorbar": {
              "outlinewidth": 0,
              "ticks": ""
             }
            },
            "type": "scattermapbox"
           }
          ],
          "scatterpolar": [
           {
            "marker": {
             "colorbar": {
              "outlinewidth": 0,
              "ticks": ""
             }
            },
            "type": "scatterpolar"
           }
          ],
          "scatterpolargl": [
           {
            "marker": {
             "colorbar": {
              "outlinewidth": 0,
              "ticks": ""
             }
            },
            "type": "scatterpolargl"
           }
          ],
          "scatterternary": [
           {
            "marker": {
             "colorbar": {
              "outlinewidth": 0,
              "ticks": ""
             }
            },
            "type": "scatterternary"
           }
          ],
          "surface": [
           {
            "colorbar": {
             "outlinewidth": 0,
             "ticks": ""
            },
            "colorscale": [
             [
              0,
              "#0d0887"
             ],
             [
              0.1111111111111111,
              "#46039f"
             ],
             [
              0.2222222222222222,
              "#7201a8"
             ],
             [
              0.3333333333333333,
              "#9c179e"
             ],
             [
              0.4444444444444444,
              "#bd3786"
             ],
             [
              0.5555555555555556,
              "#d8576b"
             ],
             [
              0.6666666666666666,
              "#ed7953"
             ],
             [
              0.7777777777777778,
              "#fb9f3a"
             ],
             [
              0.8888888888888888,
              "#fdca26"
             ],
             [
              1,
              "#f0f921"
             ]
            ],
            "type": "surface"
           }
          ],
          "table": [
           {
            "cells": {
             "fill": {
              "color": "#EBF0F8"
             },
             "line": {
              "color": "white"
             }
            },
            "header": {
             "fill": {
              "color": "#C8D4E3"
             },
             "line": {
              "color": "white"
             }
            },
            "type": "table"
           }
          ]
         },
         "layout": {
          "annotationdefaults": {
           "arrowcolor": "#2a3f5f",
           "arrowhead": 0,
           "arrowwidth": 1
          },
          "autotypenumbers": "strict",
          "coloraxis": {
           "colorbar": {
            "outlinewidth": 0,
            "ticks": ""
           }
          },
          "colorscale": {
           "diverging": [
            [
             0,
             "#8e0152"
            ],
            [
             0.1,
             "#c51b7d"
            ],
            [
             0.2,
             "#de77ae"
            ],
            [
             0.3,
             "#f1b6da"
            ],
            [
             0.4,
             "#fde0ef"
            ],
            [
             0.5,
             "#f7f7f7"
            ],
            [
             0.6,
             "#e6f5d0"
            ],
            [
             0.7,
             "#b8e186"
            ],
            [
             0.8,
             "#7fbc41"
            ],
            [
             0.9,
             "#4d9221"
            ],
            [
             1,
             "#276419"
            ]
           ],
           "sequential": [
            [
             0,
             "#0d0887"
            ],
            [
             0.1111111111111111,
             "#46039f"
            ],
            [
             0.2222222222222222,
             "#7201a8"
            ],
            [
             0.3333333333333333,
             "#9c179e"
            ],
            [
             0.4444444444444444,
             "#bd3786"
            ],
            [
             0.5555555555555556,
             "#d8576b"
            ],
            [
             0.6666666666666666,
             "#ed7953"
            ],
            [
             0.7777777777777778,
             "#fb9f3a"
            ],
            [
             0.8888888888888888,
             "#fdca26"
            ],
            [
             1,
             "#f0f921"
            ]
           ],
           "sequentialminus": [
            [
             0,
             "#0d0887"
            ],
            [
             0.1111111111111111,
             "#46039f"
            ],
            [
             0.2222222222222222,
             "#7201a8"
            ],
            [
             0.3333333333333333,
             "#9c179e"
            ],
            [
             0.4444444444444444,
             "#bd3786"
            ],
            [
             0.5555555555555556,
             "#d8576b"
            ],
            [
             0.6666666666666666,
             "#ed7953"
            ],
            [
             0.7777777777777778,
             "#fb9f3a"
            ],
            [
             0.8888888888888888,
             "#fdca26"
            ],
            [
             1,
             "#f0f921"
            ]
           ]
          },
          "colorway": [
           "#636efa",
           "#EF553B",
           "#00cc96",
           "#ab63fa",
           "#FFA15A",
           "#19d3f3",
           "#FF6692",
           "#B6E880",
           "#FF97FF",
           "#FECB52"
          ],
          "font": {
           "color": "#2a3f5f"
          },
          "geo": {
           "bgcolor": "white",
           "lakecolor": "white",
           "landcolor": "#E5ECF6",
           "showlakes": true,
           "showland": true,
           "subunitcolor": "white"
          },
          "hoverlabel": {
           "align": "left"
          },
          "hovermode": "closest",
          "mapbox": {
           "style": "light"
          },
          "paper_bgcolor": "white",
          "plot_bgcolor": "#E5ECF6",
          "polar": {
           "angularaxis": {
            "gridcolor": "white",
            "linecolor": "white",
            "ticks": ""
           },
           "bgcolor": "#E5ECF6",
           "radialaxis": {
            "gridcolor": "white",
            "linecolor": "white",
            "ticks": ""
           }
          },
          "scene": {
           "xaxis": {
            "backgroundcolor": "#E5ECF6",
            "gridcolor": "white",
            "gridwidth": 2,
            "linecolor": "white",
            "showbackground": true,
            "ticks": "",
            "zerolinecolor": "white"
           },
           "yaxis": {
            "backgroundcolor": "#E5ECF6",
            "gridcolor": "white",
            "gridwidth": 2,
            "linecolor": "white",
            "showbackground": true,
            "ticks": "",
            "zerolinecolor": "white"
           },
           "zaxis": {
            "backgroundcolor": "#E5ECF6",
            "gridcolor": "white",
            "gridwidth": 2,
            "linecolor": "white",
            "showbackground": true,
            "ticks": "",
            "zerolinecolor": "white"
           }
          },
          "shapedefaults": {
           "line": {
            "color": "#2a3f5f"
           }
          },
          "ternary": {
           "aaxis": {
            "gridcolor": "white",
            "linecolor": "white",
            "ticks": ""
           },
           "baxis": {
            "gridcolor": "white",
            "linecolor": "white",
            "ticks": ""
           },
           "bgcolor": "#E5ECF6",
           "caxis": {
            "gridcolor": "white",
            "linecolor": "white",
            "ticks": ""
           }
          },
          "title": {
           "x": 0.05
          },
          "xaxis": {
           "automargin": true,
           "gridcolor": "white",
           "linecolor": "white",
           "ticks": "",
           "title": {
            "standoff": 15
           },
           "zerolinecolor": "white",
           "zerolinewidth": 2
          },
          "yaxis": {
           "automargin": true,
           "gridcolor": "white",
           "linecolor": "white",
           "ticks": "",
           "title": {
            "standoff": 15
           },
           "zerolinecolor": "white",
           "zerolinewidth": 2
          }
         }
        }
       }
      },
      "image/png": "[encoded data removed]",
      "text/html": [
       "<div>                            <div id=\"9cf51017-faca-488d-b5c7-fdb0e969ddcf\" class=\"plotly-graph-div\" style=\"height:525px; width:100%;\"></div>            <script type=\"text/javascript\">                require([\"plotly\"], function(Plotly) {                    window.PLOTLYENV=window.PLOTLYENV || {};                                    if (document.getElementById(\"9cf51017-faca-488d-b5c7-fdb0e969ddcf\")) {                    Plotly.newPlot(                        \"9cf51017-faca-488d-b5c7-fdb0e969ddcf\",                        [{\"hovertemplate\":\"latitude=%{lat}<br>longitude=%{lon}<extra></extra>\",\"lat\":[40.4759224,40.6043906,40.60403409997223,40.60429919997223,40.4643366,40.4569339,40.5906698,40.4717545,40.604145,40.76995279997222,40.7401215,40.6818388,40.6852718,40.6830178,40.77580559997222,40.6112941,40.68373989997222,40.768860799972224,40.717286399972224,40.68115629997222,40.68050889997222,40.844317199972224,40.91277819997222,40.87712549997222,40.802680899972216,40.88726359997222,40.81483959997222,41.1389487,40.8603206,40.99194109997222,40.8444457,40.42858079997222,40.48619339997222,40.486639799972224,40.48640379997222,40.4854538,40.4852799,40.4855974,40.485944,40.305753,40.3303407,40.392905599972224,40.398836899972224,40.42794649997222,40.3964178,40.336865299972224,40.3086472,40.30624629997222,40.27693699997222,40.277123299972224,40.2766164,40.31333819997222,40.2769782,40.3577334,40.3880884,40.2189995,41.117718199972224,41.0915936,41.094641899972224,41.106503799972224,41.077587,41.0921085,41.09202839997222,41.1048522],\"legendgroup\":\"\",\"lon\":[-88.36450139997221,-88.10175279997222,-88.18003199997223,-88.12876099997222,-88.4327073,-88.37418079999999,-88.21550129997223,-88.46370319997223,-88.166554,-87.5087551,-87.6843623,-87.89447189997223,-87.7464989,-87.8455577,-87.5542221,-88.0320695,-87.81395019997223,-87.6957371,-87.6838553,-87.9241568,-87.94851629997223,-90.1718081,-90.2469638,-90.2287958,-90.1694106,-90.24117859997224,-90.1775987,-90.33232139997222,-90.2109523,-90.3358472,-90.1831092,-89.1617157,-88.66494439997223,-88.74478689997223,-88.69148909997223,-88.59091119997221,-88.57584229999999,-88.60843879999999,-88.6412902,-89.5942723,-89.3967016,-89.31273459997222,-89.23660379997223,-89.2170239,-89.31253629999999,-89.3968397,-89.4302928,-89.56273,-85.514802,-85.4519712,-85.55428309999999,-85.38459389997223,-85.521229,-85.36958289997222,-85.36963909999999,-85.57551909997221,-84.49588119997222,-84.62601739997221,-84.57348669999999,-84.54561209997222,-84.7544038,-84.72948119997223,-84.73455149997223,-84.57350369999999],\"marker\":{\"color\":\"#636efa\"},\"mode\":\"markers\",\"name\":\"\",\"showlegend\":false,\"subplot\":\"mapbox\",\"type\":\"scattermapbox\"}],                        {\"template\":{\"data\":{\"histogram2dcontour\":[{\"type\":\"histogram2dcontour\",\"colorbar\":{\"outlinewidth\":0,\"ticks\":\"\"},\"colorscale\":[[0.0,\"#0d0887\"],[0.1111111111111111,\"#46039f\"],[0.2222222222222222,\"#7201a8\"],[0.3333333333333333,\"#9c179e\"],[0.4444444444444444,\"#bd3786\"],[0.5555555555555556,\"#d8576b\"],[0.6666666666666666,\"#ed7953\"],[0.7777777777777778,\"#fb9f3a\"],[0.8888888888888888,\"#fdca26\"],[1.0,\"#f0f921\"]]}],\"choropleth\":[{\"type\":\"choropleth\",\"colorbar\":{\"outlinewidth\":0,\"ticks\":\"\"}}],\"histogram2d\":[{\"type\":\"histogram2d\",\"colorbar\":{\"outlinewidth\":0,\"ticks\":\"\"},\"colorscale\":[[0.0,\"#0d0887\"],[0.1111111111111111,\"#46039f\"],[0.2222222222222222,\"#7201a8\"],[0.3333333333333333,\"#9c179e\"],[0.4444444444444444,\"#bd3786\"],[0.5555555555555556,\"#d8576b\"],[0.6666666666666666,\"#ed7953\"],[0.7777777777777778,\"#fb9f3a\"],[0.8888888888888888,\"#fdca26\"],[1.0,\"#f0f921\"]]}],\"heatmap\":[{\"type\":\"heatmap\",\"colorbar\":{\"outlinewidth\":0,\"ticks\":\"\"},\"colorscale\":[[0.0,\"#0d0887\"],[0.1111111111111111,\"#46039f\"],[0.2222222222222222,\"#7201a8\"],[0.3333333333333333,\"#9c179e\"],[0.4444444444444444,\"#bd3786\"],[0.5555555555555556,\"#d8576b\"],[0.6666666666666666,\"#ed7953\"],[0.7777777777777778,\"#fb9f3a\"],[0.8888888888888888,\"#fdca26\"],[1.0,\"#f0f921\"]]}],\"heatmapgl\":[{\"type\":\"heatmapgl\",\"colorbar\":{\"outlinewidth\":0,\"ticks\":\"\"},\"colorscale\":[[0.0,\"#0d0887\"],[0.1111111111111111,\"#46039f\"],[0.2222222222222222,\"#7201a8\"],[0.3333333333333333,\"#9c179e\"],[0.4444444444444444,\"#bd3786\"],[0.5555555555555556,\"#d8576b\"],[0.6666666666666666,\"#ed7953\"],[0.7777777777777778,\"#fb9f3a\"],[0.8888888888888888,\"#fdca26\"],[1.0,\"#f0f921\"]]}],\"contourcarpet\":[{\"type\":\"contourcarpet\",\"colorbar\":{\"outlinewidth\":0,\"ticks\":\"\"}}],\"contour\":[{\"type\":\"contour\",\"colorbar\":{\"outlinewidth\":0,\"ticks\":\"\"},\"colorscale\":[[0.0,\"#0d0887\"],[0.1111111111111111,\"#46039f\"],[0.2222222222222222,\"#7201a8\"],[0.3333333333333333,\"#9c179e\"],[0.4444444444444444,\"#bd3786\"],[0.5555555555555556,\"#d8576b\"],[0.6666666666666666,\"#ed7953\"],[0.7777777777777778,\"#fb9f3a\"],[0.8888888888888888,\"#fdca26\"],[1.0,\"#f0f921\"]]}],\"surface\":[{\"type\":\"surface\",\"colorbar\":{\"outlinewidth\":0,\"ticks\":\"\"},\"colorscale\":[[0.0,\"#0d0887\"],[0.1111111111111111,\"#46039f\"],[0.2222222222222222,\"#7201a8\"],[0.3333333333333333,\"#9c179e\"],[0.4444444444444444,\"#bd3786\"],[0.5555555555555556,\"#d8576b\"],[0.6666666666666666,\"#ed7953\"],[0.7777777777777778,\"#fb9f3a\"],[0.8888888888888888,\"#fdca26\"],[1.0,\"#f0f921\"]]}],\"mesh3d\":[{\"type\":\"mesh3d\",\"colorbar\":{\"outlinewidth\":0,\"ticks\":\"\"}}],\"scatter\":[{\"fillpattern\":{\"fillmode\":\"overlay\",\"size\":10,\"solidity\":0.2},\"type\":\"scatter\"}],\"parcoords\":[{\"type\":\"parcoords\",\"line\":{\"colorbar\":{\"outlinewidth\":0,\"ticks\":\"\"}}}],\"scatterpolargl\":[{\"type\":\"scatterpolargl\",\"marker\":{\"colorbar\":{\"outlinewidth\":0,\"ticks\":\"\"}}}],\"bar\":[{\"error_x\":{\"color\":\"#2a3f5f\"},\"error_y\":{\"color\":\"#2a3f5f\"},\"marker\":{\"line\":{\"color\":\"#E5ECF6\",\"width\":0.5},\"pattern\":{\"fillmode\":\"overlay\",\"size\":10,\"solidity\":0.2}},\"type\":\"bar\"}],\"scattergeo\":[{\"type\":\"scattergeo\",\"marker\":{\"colorbar\":{\"outlinewidth\":0,\"ticks\":\"\"}}}],\"scatterpolar\":[{\"type\":\"scatterpolar\",\"marker\":{\"colorbar\":{\"outlinewidth\":0,\"ticks\":\"\"}}}],\"histogram\":[{\"marker\":{\"pattern\":{\"fillmode\":\"overlay\",\"size\":10,\"solidity\":0.2}},\"type\":\"histogram\"}],\"scattergl\":[{\"type\":\"scattergl\",\"marker\":{\"colorbar\":{\"outlinewidth\":0,\"ticks\":\"\"}}}],\"scatter3d\":[{\"type\":\"scatter3d\",\"line\":{\"colorbar\":{\"outlinewidth\":0,\"ticks\":\"\"}},\"marker\":{\"colorbar\":{\"outlinewidth\":0,\"ticks\":\"\"}}}],\"scattermapbox\":[{\"type\":\"scattermapbox\",\"marker\":{\"colorbar\":{\"outlinewidth\":0,\"ticks\":\"\"}}}],\"scatterternary\":[{\"type\":\"scatterternary\",\"marker\":{\"colorbar\":{\"outlinewidth\":0,\"ticks\":\"\"}}}],\"scattercarpet\":[{\"type\":\"scattercarpet\",\"marker\":{\"colorbar\":{\"outlinewidth\":0,\"ticks\":\"\"}}}],\"carpet\":[{\"aaxis\":{\"endlinecolor\":\"#2a3f5f\",\"gridcolor\":\"white\",\"linecolor\":\"white\",\"minorgridcolor\":\"white\",\"startlinecolor\":\"#2a3f5f\"},\"baxis\":{\"endlinecolor\":\"#2a3f5f\",\"gridcolor\":\"white\",\"linecolor\":\"white\",\"minorgridcolor\":\"white\",\"startlinecolor\":\"#2a3f5f\"},\"type\":\"carpet\"}],\"table\":[{\"cells\":{\"fill\":{\"color\":\"#EBF0F8\"},\"line\":{\"color\":\"white\"}},\"header\":{\"fill\":{\"color\":\"#C8D4E3\"},\"line\":{\"color\":\"white\"}},\"type\":\"table\"}],\"barpolar\":[{\"marker\":{\"line\":{\"color\":\"#E5ECF6\",\"width\":0.5},\"pattern\":{\"fillmode\":\"overlay\",\"size\":10,\"solidity\":0.2}},\"type\":\"barpolar\"}],\"pie\":[{\"automargin\":true,\"type\":\"pie\"}]},\"layout\":{\"autotypenumbers\":\"strict\",\"colorway\":[\"#636efa\",\"#EF553B\",\"#00cc96\",\"#ab63fa\",\"#FFA15A\",\"#19d3f3\",\"#FF6692\",\"#B6E880\",\"#FF97FF\",\"#FECB52\"],\"font\":{\"color\":\"#2a3f5f\"},\"hovermode\":\"closest\",\"hoverlabel\":{\"align\":\"left\"},\"paper_bgcolor\":\"white\",\"plot_bgcolor\":\"#E5ECF6\",\"polar\":{\"bgcolor\":\"#E5ECF6\",\"angularaxis\":{\"gridcolor\":\"white\",\"linecolor\":\"white\",\"ticks\":\"\"},\"radialaxis\":{\"gridcolor\":\"white\",\"linecolor\":\"white\",\"ticks\":\"\"}},\"ternary\":{\"bgcolor\":\"#E5ECF6\",\"aaxis\":{\"gridcolor\":\"white\",\"linecolor\":\"white\",\"ticks\":\"\"},\"baxis\":{\"gridcolor\":\"white\",\"linecolor\":\"white\",\"ticks\":\"\"},\"caxis\":{\"gridcolor\":\"white\",\"linecolor\":\"white\",\"ticks\":\"\"}},\"coloraxis\":{\"colorbar\":{\"outlinewidth\":0,\"ticks\":\"\"}},\"colorscale\":{\"sequential\":[[0.0,\"#0d0887\"],[0.1111111111111111,\"#46039f\"],[0.2222222222222222,\"#7201a8\"],[0.3333333333333333,\"#9c179e\"],[0.4444444444444444,\"#bd3786\"],[0.5555555555555556,\"#d8576b\"],[0.6666666666666666,\"#ed7953\"],[0.7777777777777778,\"#fb9f3a\"],[0.8888888888888888,\"#fdca26\"],[1.0,\"#f0f921\"]],\"sequentialminus\":[[0.0,\"#0d0887\"],[0.1111111111111111,\"#46039f\"],[0.2222222222222222,\"#7201a8\"],[0.3333333333333333,\"#9c179e\"],[0.4444444444444444,\"#bd3786\"],[0.5555555555555556,\"#d8576b\"],[0.6666666666666666,\"#ed7953\"],[0.7777777777777778,\"#fb9f3a\"],[0.8888888888888888,\"#fdca26\"],[1.0,\"#f0f921\"]],\"diverging\":[[0,\"#8e0152\"],[0.1,\"#c51b7d\"],[0.2,\"#de77ae\"],[0.3,\"#f1b6da\"],[0.4,\"#fde0ef\"],[0.5,\"#f7f7f7\"],[0.6,\"#e6f5d0\"],[0.7,\"#b8e186\"],[0.8,\"#7fbc41\"],[0.9,\"#4d9221\"],[1,\"#276419\"]]},\"xaxis\":{\"gridcolor\":\"white\",\"linecolor\":\"white\",\"ticks\":\"\",\"title\":{\"standoff\":15},\"zerolinecolor\":\"white\",\"automargin\":true,\"zerolinewidth\":2},\"yaxis\":{\"gridcolor\":\"white\",\"linecolor\":\"white\",\"ticks\":\"\",\"title\":{\"standoff\":15},\"zerolinecolor\":\"white\",\"automargin\":true,\"zerolinewidth\":2},\"scene\":{\"xaxis\":{\"backgroundcolor\":\"#E5ECF6\",\"gridcolor\":\"white\",\"linecolor\":\"white\",\"showbackground\":true,\"ticks\":\"\",\"zerolinecolor\":\"white\",\"gridwidth\":2},\"yaxis\":{\"backgroundcolor\":\"#E5ECF6\",\"gridcolor\":\"white\",\"linecolor\":\"white\",\"showbackground\":true,\"ticks\":\"\",\"zerolinecolor\":\"white\",\"gridwidth\":2},\"zaxis\":{\"backgroundcolor\":\"#E5ECF6\",\"gridcolor\":\"white\",\"linecolor\":\"white\",\"showbackground\":true,\"ticks\":\"\",\"zerolinecolor\":\"white\",\"gridwidth\":2}},\"shapedefaults\":{\"line\":{\"color\":\"#2a3f5f\"}},\"annotationdefaults\":{\"arrowcolor\":\"#2a3f5f\",\"arrowhead\":0,\"arrowwidth\":1},\"geo\":{\"bgcolor\":\"white\",\"landcolor\":\"#E5ECF6\",\"subunitcolor\":\"white\",\"showland\":true,\"showlakes\":true,\"lakecolor\":\"white\"},\"title\":{\"x\":0.05},\"mapbox\":{\"style\":\"light\"}}},\"mapbox\":{\"domain\":{\"x\":[0.0,1.0],\"y\":[0.0,1.0]},\"center\":{\"lat\":40.63323284529861,\"lon\":-87.89018037811414},\"accesstoken\":\"pk.eyJ1IjoibWFuZ29tYWRoYXZhIiwiYSI6ImNrdWcyNHh2OTIwMmQzMW56eWFibjUwY3QifQ.aQydTOk0ne3KrV87Ib_TrQ\",\"zoom\":10},\"legend\":{\"tracegroupgap\":0},\"margin\":{\"t\":60}},                        {\"responsive\": true}                    ).then(function(){\n",
       "                            \n",
       "var gd = document.getElementById('9cf51017-faca-488d-b5c7-fdb0e969ddcf');\n",
       "var x = new MutationObserver(function (mutations, observer) {{\n",
       "        var display = window.getComputedStyle(gd).display;\n",
       "        if (!display || display === 'none') {{\n",
       "            console.log([gd, 'removed!']);\n",
       "            Plotly.purge(gd);\n",
       "            observer.disconnect();\n",
       "        }}\n",
       "}});\n",
       "\n",
       "// Listen for the removal of the full notebook cells\n",
       "var notebookContainer = gd.closest('#notebook-container');\n",
       "if (notebookContainer) {{\n",
       "    x.observe(notebookContainer, {childList: true});\n",
       "}}\n",
       "\n",
       "// Listen for the clearing of the current output cell\n",
       "var outputEl = gd.closest('.output');\n",
       "if (outputEl) {{\n",
       "    x.observe(outputEl, {childList: true});\n",
       "}}\n",
       "\n",
       "                        })                };                });            </script>        </div>"
      ]
     },
     "metadata": {},
     "output_type": "display_data"
    }
   ],
   "source": [
    "px.set_mapbox_access_token('pk.eyJ1IjoibWFuZ29tYWRoYXZhIiwiYSI6ImNrdWcyNHh2OTIwMmQzMW56eWFibjUwY3QifQ.aQydTOk0ne3KrV87Ib_TrQ')\n",
    "fig = px.scatter_mapbox(test_set_concat, lat='latitude', lon='longitude', size_max=15, zoom=10)\n",
    "fig.show()"
   ]
  },
  {
   "cell_type": "markdown",
   "metadata": {},
   "source": [
    "#### Run the cell below if you want to download the images locally"
   ]
  },
  {
   "cell_type": "code",
   "execution_count": 48,
   "metadata": {},
   "outputs": [
    {
     "name": "stdout",
     "output_type": "stream",
     "text": [
      "image not found: USA/2021-08-20-croptour/G0016105.JPG\n",
      "image not found: USA/2021-08-20-croptour/G0028893.JPG\n",
      "image not found: USA/2021-08-20-croptour/G0028571.JPG\n",
      "image not found: USA/2021-08-20-croptour/G0028810.JPG\n"
     ]
    }
   ],
   "source": [
    "gcloud_uploaded_bucket = client.bucket('street2sat-uploaded')\n",
    "\n",
    "if not os.path.exists('test_set'):\n",
    "    os.makedirs('test_set')\n",
    "\n",
    "for i,point in test_set_concat.iterrows():\n",
    "    blob = gcloud_uploaded_bucket.blob(point['input_img'].replace('gs://street2sat-uploaded/', ''))\n",
    "    try: \n",
    "        blob.download_to_filename(f'test_set/{i}.jpg')\n",
    "    except: \n",
    "        t = point['input_img'].replace('gs://street2sat-uploaded/', '')\n",
    "        print(f'image not found: {t}')"
   ]
  },
  {
   "cell_type": "markdown",
   "metadata": {},
   "source": [
    "#### Run the cell below if you want to update the test set csv with the generated test set "
   ]
  },
  {
   "cell_type": "code",
   "execution_count": 49,
   "metadata": {},
   "outputs": [],
   "source": [
    "test_set_concat.to_csv('../data/test.csv')"
   ]
  },
  {
   "cell_type": "code",
   "execution_count": 50,
   "metadata": {},
   "outputs": [
    {
     "data": {
      "text/plain": [
       "True"
      ]
     },
     "execution_count": 50,
     "metadata": {},
     "output_type": "execute_result"
    }
   ],
   "source": [
    "(test_set_concat['being_labeled'] == False).all()"
   ]
  },
  {
   "cell_type": "code",
   "execution_count": null,
   "metadata": {},
   "outputs": [],
   "source": [
    "# TODO: upload to dvc "
   ]
  },
  {
   "cell_type": "code",
   "execution_count": null,
   "metadata": {},
   "outputs": [],
   "source": []
  },
  {
   "cell_type": "markdown",
   "metadata": {},
   "source": [
    "# Dump1"
   ]
  },
  {
   "cell_type": "code",
   "execution_count": null,
   "metadata": {},
   "outputs": [],
   "source": [
    "if(polygon.bounds[1]<=90 and polygon.bounds[2]<90):\n",
    "        polygon = ops.transform(\n",
    "                    partial(\n",
    "                        pyproj.transform,\n",
    "                        pyproj.Proj(init=\"EPSG:4326\"),\n",
    "                        pyproj.Proj(\n",
    "                            proj=\"aea\", lat_1=polygon.bounds[1], lat_2=polygon.bounds[3]\n",
    "                        ),\n",
    "                    ),\n",
    "                    polygon,\n",
    "                )\n",
    "\n",
    "    # try:\n",
    "    #     polygon = ops.transform(\n",
    "    #             partial(\n",
    "    #                 pyproj.transform,\n",
    "    #                 pyproj.Proj(init=\"EPSG:4326\"),\n",
    "    #                 pyproj.Proj(\n",
    "    #                     proj=\"aea\", lat_1=polygon.bounds[1], lat_2=polygon.bounds[3]\n",
    "    #                 ),\n",
    "    #             ),\n",
    "    #             polygon,\n",
    "    #         )\n",
    "    # except:\n",
    "    #     polygon = ops.transform(\n",
    "    #             partial(\n",
    "    #                 pyproj.transform,\n",
    "    #                 pyproj.Proj(init=\"EPSG:4326\"),\n",
    "    #                 pyproj.Proj(\n",
    "    #                     proj=\"aea\", lat_1=polygon.bounds[1]%90, lat_2=polygon.bounds[3]%90\n",
    "    #                 ),\n",
    "    #             ),\n",
    "    #             polygon,\n",
    "    #         )"
   ]
  }
 ],
 "metadata": {
  "environment": {
   "kernel": "python3",
   "name": "pytorch-gpu.1-11.m94",
   "type": "gcloud",
   "uri": "gcr.io/deeplearning-platform-release/pytorch-gpu.1-11:m94"
  },
  "interpreter": {
   "hash": "18299326acd67c3347301aa46e10944c681f8646864aedc6c136bb4609b8c46d"
  },
  "kernelspec": {
   "display_name": "Python 3",
   "language": "python",
   "name": "python3"
  },
  "language_info": {
   "codemirror_mode": {
    "name": "ipython",
    "version": 3
   },
   "file_extension": ".py",
   "mimetype": "text/x-python",
   "name": "python",
   "nbconvert_exporter": "python",
   "pygments_lexer": "ipython3",
   "version": "3.7.12"
  }
 },
 "nbformat": 4,
 "nbformat_minor": 4
}
