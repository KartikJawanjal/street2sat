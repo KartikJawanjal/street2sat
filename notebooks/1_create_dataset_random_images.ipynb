{
 "cells": [
  {
   "cell_type": "code",
   "execution_count": 8,
   "id": "3dd4cddf-f68a-4a9c-92b9-8da879fb9982",
   "metadata": {},
   "outputs": [
    {
     "name": "stdout",
     "output_type": "stream",
     "text": [
      "Collecting ipywidgets\n",
      "  Downloading ipywidgets-8.0.1-py3-none-any.whl (133 kB)\n",
      "\u001b[2K     \u001b[90m━━━━━━━━━━━━━━━━━━━━━━━━━━━━━━━━━━━━━━━\u001b[0m \u001b[32m133.7/133.7 kB\u001b[0m \u001b[31m9.5 MB/s\u001b[0m eta \u001b[36m0:00:00\u001b[0m\n",
      "\u001b[?25hRequirement already satisfied: traitlets>=4.3.1 in /opt/conda/lib/python3.7/site-packages (from ipywidgets) (5.3.0)\n",
      "Collecting widgetsnbextension~=4.0\n",
      "  Downloading widgetsnbextension-4.0.2-py3-none-any.whl (2.0 MB)\n",
      "\u001b[2K     \u001b[90m━━━━━━━━━━━━━━━━━━━━━━━━━━━━━━━━━━━━━━━━\u001b[0m \u001b[32m2.0/2.0 MB\u001b[0m \u001b[31m56.0 MB/s\u001b[0m eta \u001b[36m0:00:00\u001b[0m:00:01\u001b[0m\n",
      "\u001b[?25hRequirement already satisfied: ipykernel>=4.5.1 in /opt/conda/lib/python3.7/site-packages (from ipywidgets) (6.15.0)\n",
      "Requirement already satisfied: ipython>=6.1.0 in /opt/conda/lib/python3.7/site-packages (from ipywidgets) (7.33.0)\n",
      "Collecting jupyterlab-widgets~=3.0\n",
      "  Downloading jupyterlab_widgets-3.0.2-py3-none-any.whl (383 kB)\n",
      "\u001b[2K     \u001b[90m━━━━━━━━━━━━━━━━━━━━━━━━━━━━━━━━━━━━━━\u001b[0m \u001b[32m384.0/384.0 kB\u001b[0m \u001b[31m46.4 MB/s\u001b[0m eta \u001b[36m0:00:00\u001b[0m\n",
      "\u001b[?25hRequirement already satisfied: psutil in /opt/conda/lib/python3.7/site-packages (from ipykernel>=4.5.1->ipywidgets) (5.9.1)\n",
      "Requirement already satisfied: matplotlib-inline>=0.1 in /opt/conda/lib/python3.7/site-packages (from ipykernel>=4.5.1->ipywidgets) (0.1.3)\n",
      "Requirement already satisfied: pyzmq>=17 in /opt/conda/lib/python3.7/site-packages (from ipykernel>=4.5.1->ipywidgets) (23.2.0)\n",
      "Requirement already satisfied: jupyter-client>=6.1.12 in /opt/conda/lib/python3.7/site-packages (from ipykernel>=4.5.1->ipywidgets) (7.3.4)\n",
      "Requirement already satisfied: packaging in /opt/conda/lib/python3.7/site-packages (from ipykernel>=4.5.1->ipywidgets) (21.3)\n",
      "Requirement already satisfied: tornado>=6.1 in /opt/conda/lib/python3.7/site-packages (from ipykernel>=4.5.1->ipywidgets) (6.1)\n",
      "Requirement already satisfied: nest-asyncio in /opt/conda/lib/python3.7/site-packages (from ipykernel>=4.5.1->ipywidgets) (1.5.5)\n",
      "Requirement already satisfied: debugpy>=1.0 in /opt/conda/lib/python3.7/site-packages (from ipykernel>=4.5.1->ipywidgets) (1.6.0)\n",
      "Requirement already satisfied: pickleshare in /opt/conda/lib/python3.7/site-packages (from ipython>=6.1.0->ipywidgets) (0.7.5)\n",
      "Requirement already satisfied: setuptools>=18.5 in /opt/conda/lib/python3.7/site-packages (from ipython>=6.1.0->ipywidgets) (59.8.0)\n",
      "Requirement already satisfied: pexpect>4.3 in /opt/conda/lib/python3.7/site-packages (from ipython>=6.1.0->ipywidgets) (4.8.0)\n",
      "Requirement already satisfied: pygments in /opt/conda/lib/python3.7/site-packages (from ipython>=6.1.0->ipywidgets) (2.12.0)\n",
      "Requirement already satisfied: decorator in /opt/conda/lib/python3.7/site-packages (from ipython>=6.1.0->ipywidgets) (5.1.1)\n",
      "Requirement already satisfied: prompt-toolkit!=3.0.0,!=3.0.1,<3.1.0,>=2.0.0 in /opt/conda/lib/python3.7/site-packages (from ipython>=6.1.0->ipywidgets) (3.0.30)\n",
      "Requirement already satisfied: jedi>=0.16 in /opt/conda/lib/python3.7/site-packages (from ipython>=6.1.0->ipywidgets) (0.18.1)\n",
      "Requirement already satisfied: backcall in /opt/conda/lib/python3.7/site-packages (from ipython>=6.1.0->ipywidgets) (0.2.0)\n",
      "Requirement already satisfied: parso<0.9.0,>=0.8.0 in /opt/conda/lib/python3.7/site-packages (from jedi>=0.16->ipython>=6.1.0->ipywidgets) (0.8.3)\n",
      "Requirement already satisfied: python-dateutil>=2.8.2 in /opt/conda/lib/python3.7/site-packages (from jupyter-client>=6.1.12->ipykernel>=4.5.1->ipywidgets) (2.8.2)\n",
      "Requirement already satisfied: jupyter-core>=4.9.2 in /opt/conda/lib/python3.7/site-packages (from jupyter-client>=6.1.12->ipykernel>=4.5.1->ipywidgets) (4.10.0)\n",
      "Requirement already satisfied: entrypoints in /opt/conda/lib/python3.7/site-packages (from jupyter-client>=6.1.12->ipykernel>=4.5.1->ipywidgets) (0.4)\n",
      "Requirement already satisfied: ptyprocess>=0.5 in /opt/conda/lib/python3.7/site-packages (from pexpect>4.3->ipython>=6.1.0->ipywidgets) (0.7.0)\n",
      "Requirement already satisfied: wcwidth in /opt/conda/lib/python3.7/site-packages (from prompt-toolkit!=3.0.0,!=3.0.1,<3.1.0,>=2.0.0->ipython>=6.1.0->ipywidgets) (0.2.5)\n",
      "Requirement already satisfied: pyparsing!=3.0.5,>=2.0.2 in /opt/conda/lib/python3.7/site-packages (from packaging->ipykernel>=4.5.1->ipywidgets) (3.0.9)\n",
      "Requirement already satisfied: six>=1.5 in /opt/conda/lib/python3.7/site-packages (from python-dateutil>=2.8.2->jupyter-client>=6.1.12->ipykernel>=4.5.1->ipywidgets) (1.16.0)\n",
      "Installing collected packages: widgetsnbextension, jupyterlab-widgets, ipywidgets\n",
      "Successfully installed ipywidgets-8.0.1 jupyterlab-widgets-3.0.2 widgetsnbextension-4.0.2\n"
     ]
    }
   ],
   "source": [
    "!pip install ipywidgets"
   ]
  },
  {
   "cell_type": "code",
   "execution_count": 4,
   "id": "f9860b4c",
   "metadata": {},
   "outputs": [],
   "source": [
    "from datetime import datetime\n",
    "from pathlib import Path\n",
    "from google.cloud import aiplatform, firestore, storage\n",
    "from tqdm.notebook import tqdm\n",
    "import collections\n",
    "import pandas as pd\n",
    "import random\n",
    "# You may need to run the below commands to authenticate GCloud and set the correct project\n",
    "# !gcloud auth login\n",
    "# !gcloud config set project bsos-geog-harvest1"
   ]
  },
  {
   "cell_type": "markdown",
   "id": "6d0c03ff",
   "metadata": {},
   "source": [
    "# Create Dataset And Labeling Task \n",
    "\n",
    "**Author:** Madhava Paliyam and Ivan Zvonkov \n",
    "\n",
    "**Description:** Creates a dataset from randomly sampled images \n",
    "\n",
    "**Inputs**: None\n",
    "\n",
    "**Outputs**: A dataset onto gs://street2sat-gcloud-labeling bucket with dataset and AI platform dataset. "
   ]
  },
  {
   "cell_type": "code",
   "execution_count": 11,
   "id": "1676755f",
   "metadata": {},
   "outputs": [],
   "source": [
    "# Initialize connections to cloud storage and database\n",
    "client = storage.Client()\n",
    "db = firestore.Client()\n",
    "coll = db.collection(\"street2sat\")\n",
    "csv_bucket = \"street2sat-gcloud-labeling\""
   ]
  },
  {
   "cell_type": "code",
   "execution_count": 12,
   "id": "76f59a84",
   "metadata": {},
   "outputs": [],
   "source": [
    "# Load in all available paths, this will take 3 minutes or so\n",
    "all_paths = [blob.name for blob in client.list_blobs('street2sat-uploaded', prefix=\"\")]  \n",
    "random.shuffle(all_paths)"
   ]
  },
  {
   "cell_type": "code",
   "execution_count": 13,
   "id": "e9dac807",
   "metadata": {},
   "outputs": [],
   "source": [
    "# Utility functions\n",
    "cached = {}\n",
    "\n",
    "def get_images_already_being_labelled():\n",
    "    \"\"\"Gets images already labelled\"\"\"\n",
    "    # need to double check if these changes work!!!!!\n",
    "    images_already_being_labelled = pd.read_csv('gs://street2sat-database-csv/database-info.csv')\n",
    "    # we want images already being labeled\n",
    "    images_already_being_labelled = images_already_being_labelled[images_already_being_labelled['being_labeled'] == True]\n",
    "    # and also images that are not in test set \n",
    "    images_already_being_labelled = images_already_being_labelled[images_already_being_labelled['test_set'] == False]\n",
    "\n",
    "    return list(images_already_being_labelled['input_img'])\n",
    "\n",
    "def amount_of_objects_detected(uri: str):\n",
    "    \"\"\"Finds amount of objects detected in image uri\"\"\"\n",
    "    if uri in cached:\n",
    "        return cached[uri]\n",
    "    \n",
    "    query = coll.where(\"input_img\", \"==\", uri).limit(1).get()\n",
    "    objects_detected = 0\n",
    "    if len(query) > 0:\n",
    "        item = query[0].to_dict()\n",
    "        if \"results\" in item:\n",
    "            objects_detected = len(item[\"results\"])\n",
    "    \n",
    "    cached[uri] = objects_detected     \n",
    "    return objects_detected\n",
    "\n",
    "def get_paths_with_predicted_objects(amount: int, object_threshold: int = 5):\n",
    "    \"\"\"Gets URIs for images with more than {object_threshold} objects\"\"\"\n",
    "    already_being_labelled = get_images_already_being_labelled()\n",
    "    images_to_label = []\n",
    "    with tqdm(total=amount, desc=\"Get URIs\") as pbar:\n",
    "        for i, p in enumerate(all_paths):\n",
    "            uri = f\"gs://street2sat-uploaded/{p}\"\n",
    "            if uri in already_being_labelled or amount_of_objects_detected(uri) <= object_threshold:\n",
    "                continue\n",
    "            pbar.update(1)\n",
    "            images_to_label.append(uri)\n",
    "            if len(images_to_label) == 1:\n",
    "                print(f\"Start range: {i}\")\n",
    "            if len(images_to_label) >= amount:\n",
    "                print(f\"End range: {i}\")\n",
    "                break\n",
    "    return images_to_label"
   ]
  },
  {
   "cell_type": "markdown",
   "id": "e2e93afe",
   "metadata": {},
   "source": [
    "#### 1b. Generate CSVs"
   ]
  },
  {
   "cell_type": "code",
   "execution_count": 14,
   "id": "61aa9543",
   "metadata": {},
   "outputs": [
    {
     "ename": "ImportError",
     "evalue": "IProgress not found. Please update jupyter and ipywidgets. See https://ipywidgets.readthedocs.io/en/stable/user_install.html",
     "output_type": "error",
     "traceback": [
      "\u001b[0;31m---------------------------------------------------------------------------\u001b[0m",
      "\u001b[0;31mImportError\u001b[0m                               Traceback (most recent call last)",
      "\u001b[0;32m/tmp/ipykernel_3475/138814352.py\u001b[0m in \u001b[0;36m<module>\u001b[0;34m\u001b[0m\n\u001b[1;32m      1\u001b[0m \u001b[0mamount_of_csvs_to_generate\u001b[0m \u001b[0;34m=\u001b[0m \u001b[0;36m5\u001b[0m\u001b[0;34m\u001b[0m\u001b[0;34m\u001b[0m\u001b[0m\n\u001b[0;32m----> 2\u001b[0;31m \u001b[0;32mfor\u001b[0m \u001b[0mi\u001b[0m \u001b[0;32min\u001b[0m \u001b[0mtqdm\u001b[0m\u001b[0;34m(\u001b[0m\u001b[0mrange\u001b[0m\u001b[0;34m(\u001b[0m\u001b[0mamount_of_csvs_to_generate\u001b[0m\u001b[0;34m)\u001b[0m\u001b[0;34m,\u001b[0m \u001b[0mdesc\u001b[0m\u001b[0;34m=\u001b[0m\u001b[0;34m\"CSV Generation\"\u001b[0m\u001b[0;34m)\u001b[0m\u001b[0;34m:\u001b[0m\u001b[0;34m\u001b[0m\u001b[0;34m\u001b[0m\u001b[0m\n\u001b[0m\u001b[1;32m      3\u001b[0m     \u001b[0;31m# Get random images to label with at least 5 objects predicted in each image\u001b[0m\u001b[0;34m\u001b[0m\u001b[0;34m\u001b[0m\u001b[0;34m\u001b[0m\u001b[0m\n\u001b[1;32m      4\u001b[0m     \u001b[0mimages_to_label\u001b[0m \u001b[0;34m=\u001b[0m \u001b[0mget_paths_with_predicted_objects\u001b[0m\u001b[0;34m(\u001b[0m\u001b[0;36m100\u001b[0m\u001b[0;34m,\u001b[0m \u001b[0mobject_threshold\u001b[0m\u001b[0;34m=\u001b[0m\u001b[0;36m5\u001b[0m\u001b[0;34m)\u001b[0m\u001b[0;34m\u001b[0m\u001b[0;34m\u001b[0m\u001b[0m\n\u001b[1;32m      5\u001b[0m     \u001b[0mcsv_name\u001b[0m \u001b[0;34m=\u001b[0m \u001b[0mdatetime\u001b[0m\u001b[0;34m.\u001b[0m\u001b[0mnow\u001b[0m\u001b[0;34m(\u001b[0m\u001b[0;34m)\u001b[0m\u001b[0;34m.\u001b[0m\u001b[0mstrftime\u001b[0m\u001b[0;34m(\u001b[0m\u001b[0mdate_format\u001b[0m\u001b[0;34m)\u001b[0m \u001b[0;34m+\u001b[0m \u001b[0;34m\".csv\"\u001b[0m\u001b[0;34m\u001b[0m\u001b[0;34m\u001b[0m\u001b[0m\n",
      "\u001b[0;32m/opt/conda/lib/python3.7/site-packages/tqdm/notebook.py\u001b[0m in \u001b[0;36m__init__\u001b[0;34m(self, *args, **kwargs)\u001b[0m\n\u001b[1;32m    240\u001b[0m         \u001b[0munit_scale\u001b[0m \u001b[0;34m=\u001b[0m \u001b[0;36m1\u001b[0m \u001b[0;32mif\u001b[0m \u001b[0mself\u001b[0m\u001b[0;34m.\u001b[0m\u001b[0munit_scale\u001b[0m \u001b[0;32mis\u001b[0m \u001b[0;32mTrue\u001b[0m \u001b[0;32melse\u001b[0m \u001b[0mself\u001b[0m\u001b[0;34m.\u001b[0m\u001b[0munit_scale\u001b[0m \u001b[0;32mor\u001b[0m \u001b[0;36m1\u001b[0m\u001b[0;34m\u001b[0m\u001b[0;34m\u001b[0m\u001b[0m\n\u001b[1;32m    241\u001b[0m         \u001b[0mtotal\u001b[0m \u001b[0;34m=\u001b[0m \u001b[0mself\u001b[0m\u001b[0;34m.\u001b[0m\u001b[0mtotal\u001b[0m \u001b[0;34m*\u001b[0m \u001b[0munit_scale\u001b[0m \u001b[0;32mif\u001b[0m \u001b[0mself\u001b[0m\u001b[0;34m.\u001b[0m\u001b[0mtotal\u001b[0m \u001b[0;32melse\u001b[0m \u001b[0mself\u001b[0m\u001b[0;34m.\u001b[0m\u001b[0mtotal\u001b[0m\u001b[0;34m\u001b[0m\u001b[0;34m\u001b[0m\u001b[0m\n\u001b[0;32m--> 242\u001b[0;31m         \u001b[0mself\u001b[0m\u001b[0;34m.\u001b[0m\u001b[0mcontainer\u001b[0m \u001b[0;34m=\u001b[0m \u001b[0mself\u001b[0m\u001b[0;34m.\u001b[0m\u001b[0mstatus_printer\u001b[0m\u001b[0;34m(\u001b[0m\u001b[0mself\u001b[0m\u001b[0;34m.\u001b[0m\u001b[0mfp\u001b[0m\u001b[0;34m,\u001b[0m \u001b[0mtotal\u001b[0m\u001b[0;34m,\u001b[0m \u001b[0mself\u001b[0m\u001b[0;34m.\u001b[0m\u001b[0mdesc\u001b[0m\u001b[0;34m,\u001b[0m \u001b[0mself\u001b[0m\u001b[0;34m.\u001b[0m\u001b[0mncols\u001b[0m\u001b[0;34m)\u001b[0m\u001b[0;34m\u001b[0m\u001b[0;34m\u001b[0m\u001b[0m\n\u001b[0m\u001b[1;32m    243\u001b[0m         \u001b[0mself\u001b[0m\u001b[0;34m.\u001b[0m\u001b[0mcontainer\u001b[0m\u001b[0;34m.\u001b[0m\u001b[0mpbar\u001b[0m \u001b[0;34m=\u001b[0m \u001b[0mproxy\u001b[0m\u001b[0;34m(\u001b[0m\u001b[0mself\u001b[0m\u001b[0;34m)\u001b[0m\u001b[0;34m\u001b[0m\u001b[0;34m\u001b[0m\u001b[0m\n\u001b[1;32m    244\u001b[0m         \u001b[0mself\u001b[0m\u001b[0;34m.\u001b[0m\u001b[0mdisplayed\u001b[0m \u001b[0;34m=\u001b[0m \u001b[0;32mFalse\u001b[0m\u001b[0;34m\u001b[0m\u001b[0;34m\u001b[0m\u001b[0m\n",
      "\u001b[0;32m/opt/conda/lib/python3.7/site-packages/tqdm/notebook.py\u001b[0m in \u001b[0;36mstatus_printer\u001b[0;34m(_, total, desc, ncols)\u001b[0m\n\u001b[1;32m    116\u001b[0m         \u001b[0;31m# Prepare IPython progress bar\u001b[0m\u001b[0;34m\u001b[0m\u001b[0;34m\u001b[0m\u001b[0;34m\u001b[0m\u001b[0m\n\u001b[1;32m    117\u001b[0m         \u001b[0;32mif\u001b[0m \u001b[0mIProgress\u001b[0m \u001b[0;32mis\u001b[0m \u001b[0;32mNone\u001b[0m\u001b[0;34m:\u001b[0m  \u001b[0;31m# #187 #451 #558 #872\u001b[0m\u001b[0;34m\u001b[0m\u001b[0;34m\u001b[0m\u001b[0m\n\u001b[0;32m--> 118\u001b[0;31m             \u001b[0;32mraise\u001b[0m \u001b[0mImportError\u001b[0m\u001b[0;34m(\u001b[0m\u001b[0mWARN_NOIPYW\u001b[0m\u001b[0;34m)\u001b[0m\u001b[0;34m\u001b[0m\u001b[0;34m\u001b[0m\u001b[0m\n\u001b[0m\u001b[1;32m    119\u001b[0m         \u001b[0;32mif\u001b[0m \u001b[0mtotal\u001b[0m\u001b[0;34m:\u001b[0m\u001b[0;34m\u001b[0m\u001b[0;34m\u001b[0m\u001b[0m\n\u001b[1;32m    120\u001b[0m             \u001b[0mpbar\u001b[0m \u001b[0;34m=\u001b[0m \u001b[0mIProgress\u001b[0m\u001b[0;34m(\u001b[0m\u001b[0mmin\u001b[0m\u001b[0;34m=\u001b[0m\u001b[0;36m0\u001b[0m\u001b[0;34m,\u001b[0m \u001b[0mmax\u001b[0m\u001b[0;34m=\u001b[0m\u001b[0mtotal\u001b[0m\u001b[0;34m)\u001b[0m\u001b[0;34m\u001b[0m\u001b[0;34m\u001b[0m\u001b[0m\n",
      "\u001b[0;31mImportError\u001b[0m: IProgress not found. Please update jupyter and ipywidgets. See https://ipywidgets.readthedocs.io/en/stable/user_install.html"
     ]
    }
   ],
   "source": [
    "amount_of_csvs_to_generate = 5\n",
    "for i in tqdm(range(amount_of_csvs_to_generate), desc=\"CSV Generation\"):\n",
    "    # Get random images to label with at least 5 objects predicted in each image\n",
    "    images_to_label = get_paths_with_predicted_objects(100, object_threshold=5)\n",
    "    csv_name = datetime.now().strftime(date_format) + \".csv\"\n",
    "    print(f\"Saving to {csv_name}\")\n",
    "    df = pd.DataFrame(images_to_label)\n",
    "    df.to_csv(f\"gs://{csv_bucket}/{csv_name}\", sep=\"\\n\", index=False, header=False)"
   ]
  },
  {
   "cell_type": "markdown",
   "id": "611b27e0",
   "metadata": {},
   "source": [
    "## 2. Creating a dataset on Vertex AI"
   ]
  },
  {
   "cell_type": "code",
   "execution_count": null,
   "id": "fcf00fa0",
   "metadata": {},
   "outputs": [],
   "source": [
    "# Finds which csvs to make \n",
    "existing_dataset_dates = []\n",
    "for d in aiplatform.ImageDataset.list():\n",
    "    cleaned_display_name = d.display_name.replace(\" \", \"\") \n",
    "    existing_dataset_dates.append(datetime.strptime(cleaned_display_name, \"%Y-%m-%d_%H-%M-%S\"))\n",
    "\n",
    "csvs_for_new_datasets = []\n",
    "for blob in client.list_blobs(csv_bucket, prefix=\"\"):\n",
    "    if not blob.name.endswith(\".csv\"):\n",
    "        continue\n",
    "    csv_date = datetime.strptime(Path(blob.name).stem, \"%Y-%m-%d_%H-%M-%S\")\n",
    "    if csv_date in existing_dataset_dates:\n",
    "        continue\n",
    "    csvs_for_new_datasets.append(blob)\n",
    "print(f\"Found {len(csvs_for_new_datasets)} csvs_for_new_datasets\")"
   ]
  },
  {
   "cell_type": "code",
   "execution_count": null,
   "id": "a976e146",
   "metadata": {},
   "outputs": [],
   "source": [
    "# Create datasets\n",
    "new_datasets = []\n",
    "for csv_for_dataset in csvs_for_new_datasets:\n",
    "    display_name = Path(csv_for_dataset.name).stem\n",
    "    assert datetime.strptime(display_name, \"%Y-%m-%d_%H-%M-%S\")\n",
    "        \n",
    "    ds = aiplatform.ImageDataset.create(\n",
    "        display_name=display_name,\n",
    "        gcs_source=f\"gs://{csv_for_dataset.bucket.name}/{csv_for_dataset.name}\",\n",
    "        import_schema_uri=aiplatform.schema.dataset.ioformat.image.bounding_box,\n",
    "        sync=False,\n",
    "    )\n",
    "    new_datasets.append(ds)  "
   ]
  },
  {
   "cell_type": "code",
   "execution_count": 12,
   "id": "26921877",
   "metadata": {},
   "outputs": [
    {
     "name": "stdout",
     "output_type": "stream",
     "text": [
      "Completed processing: 0/15\n"
     ]
    }
   ],
   "source": [
    "# Check status\n",
    "done = len([_ for _ in new_datasets if ds._gca_resource])\n",
    "total = len(new_datasets)\n",
    "print(f\"Completed processing: {done}/{total}\")    "
   ]
  },
  {
   "cell_type": "markdown",
   "id": "f6d2e54d",
   "metadata": {},
   "source": [
    "## 3. Creating a labeling task\n",
    "You can create a labeling task during or after dataset creation is complete.\n",
    "\n",
    "a. Click **CREATE LABELING TASK**\n",
    "\n",
    "b. For Labeling Task name: use the `%Y-%m-%d_%H-%-M-%S` format with a task suffix\n",
    "\n",
    "![image.png](../assets/labeling-task/3b.png)\n",
    "\n",
    "c. In step 2: input the labels as per [classes.txt](https://github.com/nasaharvest/street2sat_website/blob/main/street2sat_utils/crop_info/classes.txt)\n",
    "\n",
    "![image-2.png](../assets/labeling-task/3c.png)\n",
    "\n",
    "d. In step 3: select the instruction PDF available in `gs://street2sat-gcloud-labeling`. (This can be updated if necessary)\n",
    "\n",
    "![image-3.png](../assets/labeling-task/3d.png)\n",
    "\n",
    "e. In step 4: select the \"Street2sat Labelers\" group and add your email as a manager.\n",
    "\n",
    "![image-4.png](../assets/labeling-task/3e.png)\n",
    "\n",
    "f. After some time (maybe 15 minutes) you should receive an email from noreply-vertexai@google.com that looks like this:\n",
    "![image-6.png](../assets/labeling-task/3f.png)\n"
   ]
  },
  {
   "cell_type": "markdown",
   "id": "1f16ab1b",
   "metadata": {},
   "source": [
    "## 4. Labeling Manager Console\n",
    "Using the second link the above email you can access the Manager console. \n",
    "- Tasks - shows the progress of the created Labeling task\n",
    "- Specialists - shows the list of available labelers (more can be added here)\n",
    "- Assignments - allows managing who is working on which task\n",
    "\n",
    "Tasks and Specialists are pretty intuitive, but to change Assignment you must:\n",
    "1. Populate the Specialists column with an existing specialist (labeler)\n",
    "2. Populate the Tasks column with a created task\n",
    "3. Make changes by checking or unchecking specialists\n",
    "4. Commit changes using the button on the top right\n",
    "\n",
    "![image.png](../assets/labeling-task/4.png)\n"
   ]
  },
  {
   "cell_type": "markdown",
   "id": "12cfaeb8",
   "metadata": {},
   "source": [
    "# 5. Actual labeling\n",
    "Members of the Street2sat labelers group should receive an email like this upon assignment:\n",
    "![image.png](../assets/labeling-task/5.png)\n",
    "\n",
    "However these emails have not been consistent so a direct link from Step 3f email may need to be manually sent.\n",
    "\n",
    "Once the specialist clicks the link, they'll see the following page and will be ready to go:\n",
    "![image-2.png](../assets/labeling-task/5b.png)\n",
    "\n",
    "- Since this guide is for individuals creating labeling tasks, I'll leave details about actual labeling on Google Cloud to another slide/document."
   ]
  },
  {
   "cell_type": "markdown",
   "id": "70c96207",
   "metadata": {},
   "source": [
    "## 6. Exporting the labels\n",
    "To export labels navigate to Vertex AI datasets, click the 3 dots on the desirable dataset and select Export dataset\n",
    "![image.png](../assets/labeling-task/6.png)\n",
    "\n",
    "Save the output file directly to the `street2sat-gcloud-labeling` bucket."
   ]
  },
  {
   "cell_type": "code",
   "execution_count": null,
   "id": "592fd8a5",
   "metadata": {},
   "outputs": [],
   "source": []
  },
  {
   "cell_type": "code",
   "execution_count": null,
   "id": "1a5b0db0-8982-4773-ad3e-09ad4aba6bfb",
   "metadata": {},
   "outputs": [],
   "source": []
  },
  {
   "cell_type": "code",
   "execution_count": null,
   "id": "8e278bb2-59a4-4b20-b943-3ed8d54341d5",
   "metadata": {},
   "outputs": [],
   "source": []
  },
  {
   "cell_type": "code",
   "execution_count": null,
   "id": "23623e93-d797-41fa-8cac-41ad349d391c",
   "metadata": {},
   "outputs": [],
   "source": []
  }
 ],
 "metadata": {
  "environment": {
   "kernel": "python3",
   "name": "pytorch-gpu.1-11.m94",
   "type": "gcloud",
   "uri": "gcr.io/deeplearning-platform-release/pytorch-gpu.1-11:m94"
  },
  "interpreter": {
   "hash": "18299326acd67c3347301aa46e10944c681f8646864aedc6c136bb4609b8c46d"
  },
  "kernelspec": {
   "display_name": "Python 3",
   "language": "python",
   "name": "python3"
  },
  "language_info": {
   "codemirror_mode": {
    "name": "ipython",
    "version": 3
   },
   "file_extension": ".py",
   "mimetype": "text/x-python",
   "name": "python",
   "nbconvert_exporter": "python",
   "pygments_lexer": "ipython3",
   "version": "3.7.12"
  }
 },
 "nbformat": 4,
 "nbformat_minor": 5
}
